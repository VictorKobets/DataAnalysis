{
 "cells": [
  {
   "cell_type": "markdown",
   "metadata": {},
   "source": [
    "# Оценка и улучшение качества модели"
   ]
  },
  {
   "cell_type": "code",
   "execution_count": 1,
   "metadata": {},
   "outputs": [],
   "source": [
    "# Вплоть до настоящего момента для оценки качества модели мы разбивали наши данные на обучающий\n",
    "# и тестовый нборы с помощью функции train_test_split, строили модель на обучающей выборке,\n",
    "# вызвав метод fit, и оценивали ее качество на тестовом наборе, используя метод score, который\n",
    "# для задач классификации вычисляет долю правильно классифицированных примеров. Вот пример:"
   ]
  },
  {
   "cell_type": "code",
   "execution_count": 2,
   "metadata": {},
   "outputs": [],
   "source": [
    "from sklearn.datasets import make_blobs\n",
    "from sklearn.linear_model import LogisticRegression\n",
    "from sklearn.model_selection import train_test_split"
   ]
  },
  {
   "cell_type": "code",
   "execution_count": 3,
   "metadata": {},
   "outputs": [
    {
     "name": "stdout",
     "output_type": "stream",
     "text": [
      "Правильность на тестовом наборе: 0.88\n"
     ]
    }
   ],
   "source": [
    "# создаем синтетический набор данных\n",
    "X, y = make_blobs(random_state = 0)\n",
    "\n",
    "# разобъем данные на обучающий и тестовый наборы\n",
    "X_train, X_test, y_train, y_test = train_test_split(X, y, random_state = 0)\n",
    "\n",
    "# создаем экземпляр модели и подгоняем его на обучающем наборе\n",
    "logreg = LogisticRegression().fit(X_train, y_train)\n",
    "\n",
    "# оцениваем качество модели на тестовом наборе\n",
    "print(u'Правильность на тестовом наборе: {:.2f}'.format(logreg.score(X_test, y_test)))"
   ]
  },
  {
   "cell_type": "markdown",
   "metadata": {},
   "source": [
    "## Пререкресная проверка"
   ]
  },
  {
   "cell_type": "markdown",
   "metadata": {},
   "source": [
    "### Перекресная проверка в библиотеке scikit-learn"
   ]
  },
  {
   "cell_type": "code",
   "execution_count": 4,
   "metadata": {},
   "outputs": [],
   "source": [
    "# Давайте оценим качество модели LogisticRegression на наборе данных iris"
   ]
  },
  {
   "cell_type": "code",
   "execution_count": 5,
   "metadata": {},
   "outputs": [],
   "source": [
    "from sklearn.model_selection import cross_val_score\n",
    "from sklearn.datasets import load_iris\n",
    "from sklearn.linear_model import LogisticRegression"
   ]
  },
  {
   "cell_type": "code",
   "execution_count": 6,
   "metadata": {},
   "outputs": [],
   "source": [
    "iris = load_iris()\n",
    "\n",
    "logreg = LogisticRegression()"
   ]
  },
  {
   "cell_type": "code",
   "execution_count": 7,
   "metadata": {},
   "outputs": [
    {
     "name": "stdout",
     "output_type": "stream",
     "text": [
      "Значения праильности перекресной проверки: [ 0.96078431  0.92156863  0.95833333]\n"
     ]
    }
   ],
   "source": [
    "scores = cross_val_score(logreg, iris.data, iris.target)\n",
    "\n",
    "print(u'Значения праильности перекресной проверки: {}'.format(scores))"
   ]
  },
  {
   "cell_type": "code",
   "execution_count": 9,
   "metadata": {},
   "outputs": [
    {
     "name": "stdout",
     "output_type": "stream",
     "text": [
      "Значения правильности перекресной проверки:\n",
      "[ 1.          0.96666667  0.93333333  0.9         1.        ]\n"
     ]
    }
   ],
   "source": [
    "scores = cross_val_score(logreg, iris.data, iris.target, cv = 5)\n",
    "\n",
    "print(u'Значения правильности перекресной проверки:\\n{}'.format(scores))"
   ]
  },
  {
   "cell_type": "code",
   "execution_count": 11,
   "metadata": {},
   "outputs": [
    {
     "name": "stdout",
     "output_type": "stream",
     "text": [
      "Средняя правильность перекресной проверки: 0.96\n"
     ]
    }
   ],
   "source": [
    "# Наиболее распространненый способ подытожить правильность, вычисленную в ходе перекресной\n",
    "# проверки, - это вычисление среднего значения.\n",
    "\n",
    "print(u'Средняя правильность перекресной проверки: {:.2f}'.format(scores.mean()))"
   ]
  },
  {
   "cell_type": "markdown",
   "metadata": {},
   "source": [
    "## Стратифицированная к-блочная перекресная проверка и другие стратегии"
   ]
  },
  {
   "cell_type": "code",
   "execution_count": 12,
   "metadata": {},
   "outputs": [],
   "source": [
    "# Описанное в предыдущем разделе разбиение данных на к блоков, начиная с первой 1/к - ой части\n",
    "# всего набора, не всегда является хорошей идеей. Для примера давайте посмотрим на набор\n",
    "# данных iris."
   ]
  },
  {
   "cell_type": "code",
   "execution_count": 13,
   "metadata": {},
   "outputs": [
    {
     "name": "stdout",
     "output_type": "stream",
     "text": [
      "Метки ирисов:\n",
      "[0 0 0 0 0 0 0 0 0 0 0 0 0 0 0 0 0 0 0 0 0 0 0 0 0 0 0 0 0 0 0 0 0 0 0 0 0\n",
      " 0 0 0 0 0 0 0 0 0 0 0 0 0 1 1 1 1 1 1 1 1 1 1 1 1 1 1 1 1 1 1 1 1 1 1 1 1\n",
      " 1 1 1 1 1 1 1 1 1 1 1 1 1 1 1 1 1 1 1 1 1 1 1 1 1 1 2 2 2 2 2 2 2 2 2 2 2\n",
      " 2 2 2 2 2 2 2 2 2 2 2 2 2 2 2 2 2 2 2 2 2 2 2 2 2 2 2 2 2 2 2 2 2 2 2 2 2\n",
      " 2 2]\n"
     ]
    }
   ],
   "source": [
    "from sklearn.datasets import load_iris\n",
    "\n",
    "iris = load_iris()\n",
    "\n",
    "print(u'Метки ирисов:\\n{}'.format(iris.target))"
   ]
  },
  {
   "cell_type": "code",
   "execution_count": 17,
   "metadata": {},
   "outputs": [],
   "source": [
    "# В стратифицированной перекресной прверке мы разбиваем данные таким образом, чтобы пропорции\n",
    "# классов в каждом блоке в точности соответствовали пропорции классов в наборе данных, как это\n",
    "# показано:\n",
    "import mglearn"
   ]
  },
  {
   "cell_type": "code",
   "execution_count": 18,
   "metadata": {},
   "outputs": [
    {
     "data": {
      "image/png": "[encoded data removed]",
      "text/plain": [
       "<matplotlib.figure.Figure at 0x1c1cd4a090>"
      ]
     },
     "metadata": {},
     "output_type": "display_data"
    }
   ],
   "source": [
    "mglearn.plots.plot_stratified_cross_validation()"
   ]
  },
  {
   "cell_type": "markdown",
   "metadata": {},
   "source": [
    "### Больше контроля над перекрестной проверкой"
   ]
  },
  {
   "cell_type": "code",
   "execution_count": 19,
   "metadata": {},
   "outputs": [],
   "source": [
    "# Допустим, мы хотим применить к-блочную перекрестную проверку к классификационному набору\n",
    "# данных, чтобы воспроизвести чьи-то результаты. Для этого мы должны сначало импортировать\n",
    "# класс KFold из модуля model_selection и создать его экземпляр, задав нужное количество блоков"
   ]
  },
  {
   "cell_type": "code",
   "execution_count": 20,
   "metadata": {},
   "outputs": [],
   "source": [
    "from sklearn.model_selection import KFold\n",
    "kfold = KFold(n_splits = 5)"
   ]
  },
  {
   "cell_type": "code",
   "execution_count": 21,
   "metadata": {},
   "outputs": [],
   "source": [
    "# Затем мы можем передать объект генератора разбиений kfold в качестве параметра cv в функцию\n",
    "# cross_val_score."
   ]
  },
  {
   "cell_type": "code",
   "execution_count": 22,
   "metadata": {},
   "outputs": [
    {
     "name": "stdout",
     "output_type": "stream",
     "text": [
      "Значения правильности перекрестной проверки:\n",
      "[ 1.          0.93333333  0.43333333  0.96666667  0.43333333]\n"
     ]
    }
   ],
   "source": [
    "print(u'Значения правильности перекрестной проверки:\\n{}'.format(cross_val_score(logreg, \n",
    "                                                                                iris.data, \n",
    "                                                                                iris.target, \n",
    "                                                                                cv = kfold)))"
   ]
  },
  {
   "cell_type": "code",
   "execution_count": 23,
   "metadata": {},
   "outputs": [],
   "source": [
    "# Таким образом, мы можем убедиться, что использование трехблочной (нестратифицированной) пере-\n",
    "# крестной проверки для набора данных iris действительно является очень плохой идеей."
   ]
  },
  {
   "cell_type": "code",
   "execution_count": 24,
   "metadata": {},
   "outputs": [
    {
     "name": "stdout",
     "output_type": "stream",
     "text": [
      "Значения правильности перекрестной проверки:\n",
      "[ 0.  0.  0.]\n"
     ]
    }
   ],
   "source": [
    "kfold = KFold(n_splits = 3)\n",
    "\n",
    "print(u'Значения правильности перекрестной проверки:\\n{}'.format(cross_val_score(logreg, \n",
    "                                                                                iris.data, \n",
    "                                                                                iris.target, \n",
    "                                                                                cv = kfold)))"
   ]
  },
  {
   "cell_type": "code",
   "execution_count": 25,
   "metadata": {},
   "outputs": [
    {
     "name": "stdout",
     "output_type": "stream",
     "text": [
      "Значения правильности перекрестной проверки:\n",
      "[ 0.9   0.96  0.96]\n"
     ]
    }
   ],
   "source": [
    "# Нарушим порядок сортировки примеров, определяемый их метками.\n",
    "\n",
    "kfold = KFold(n_splits = 3, shuffle = True, random_state = 0)\n",
    "\n",
    "print(u'Значения правильности перекрестной проверки:\\n{}'.format(cross_val_score(logreg, \n",
    "                                                                                iris.data, \n",
    "                                                                                iris.target, \n",
    "                                                                                cv = kfold)))"
   ]
  },
  {
   "cell_type": "markdown",
   "metadata": {},
   "source": [
    "### Перекрестная проверка с исключением по одному"
   ]
  },
  {
   "cell_type": "code",
   "execution_count": 30,
   "metadata": {},
   "outputs": [
    {
     "name": "stdout",
     "output_type": "stream",
     "text": [
      "Количество итераций cv: 150\n",
      "Средняя правильность: 0.95\n"
     ]
    }
   ],
   "source": [
    "from sklearn.model_selection import LeaveOneOut\n",
    "loo = LeaveOneOut()\n",
    "scores = cross_val_score(logreg, iris.data, iris.target, cv = loo)\n",
    "\n",
    "print(u'Количество итераций cv: {}'.format(len(scores)))\n",
    "print(u'Средняя правильность: {:.2f}'.format(scores.mean()))"
   ]
  },
  {
   "cell_type": "markdown",
   "metadata": {},
   "source": [
    "### Перекрестная проверка со случайными перестановками при разбиении"
   ]
  },
  {
   "cell_type": "code",
   "execution_count": 31,
   "metadata": {},
   "outputs": [
    {
     "data": {
      "image/png": "[encoded data removed]",
      "text/plain": [
       "<matplotlib.figure.Figure at 0x1c1f71fa10>"
      ]
     },
     "metadata": {},
     "output_type": "display_data"
    }
   ],
   "source": [
    "mglearn.plots.plot_shuffle_split()"
   ]
  },
  {
   "cell_type": "code",
   "execution_count": 32,
   "metadata": {},
   "outputs": [
    {
     "name": "stdout",
     "output_type": "stream",
     "text": [
      "Значения правильности перекрестной проверки:\n",
      "[ 0.96        0.96        0.96        0.93333333  0.82666667  0.92        0.96\n",
      "  0.94666667  0.93333333  0.90666667]\n"
     ]
    }
   ],
   "source": [
    "# Программный код, приведенный ниже, 10 раз разбивает данные на 50%-ный обучающий набор и\n",
    "# 50%-ый тестовый набор.\n",
    "\n",
    "from sklearn.model_selection import ShuffleSplit\n",
    "\n",
    "shuffle_split = ShuffleSplit(test_size = 0.5, train_size = 0.5, n_splits = 10)\n",
    "\n",
    "scores = cross_val_score(logreg, iris.data, iris.target, cv = shuffle_split)\n",
    "\n",
    "print(u'Значения правильности перекрестной проверки:\\n{}'.format(scores))"
   ]
  },
  {
   "cell_type": "markdown",
   "metadata": {},
   "source": [
    "### Перекрестная проверка с использованием групп"
   ]
  },
  {
   "cell_type": "code",
   "execution_count": 33,
   "metadata": {},
   "outputs": [
    {
     "name": "stdout",
     "output_type": "stream",
     "text": [
      "Значения правильности перекрестной проверки:\n",
      "[ 0.75        0.8         0.66666667]\n"
     ]
    }
   ],
   "source": [
    "from sklearn.model_selection import GroupKFold\n",
    "# создаем синтетический набор данных\n",
    "X, y = make_blobs(n_samples = 12, random_state = 0)\n",
    "# передположим, что первые три примера относятся к одной и той же группе, затем - следующие\n",
    "# четыре и т.д.\n",
    "groups = [0, 0, 0, 1, 1, 1, 1, 2, 2, 3, 3, 3]\n",
    "scores = cross_val_score(logreg, X, y, groups, cv = GroupKFold(n_splits = 3))\n",
    "\n",
    "print(u'Значения правильности перекрестной проверки:\\n{}'.format(scores))"
   ]
  }
 ],
 "metadata": {
  "kernelspec": {
   "display_name": "Python 3",
   "language": "python",
   "name": "python3"
  },
  "language_info": {
   "codemirror_mode": {
    "name": "ipython",
    "version": 3
   },
   "file_extension": ".py",
   "mimetype": "text/x-python",
   "name": "python",
   "nbconvert_exporter": "python",
   "pygments_lexer": "ipython3",
   "version": "3.6.8"
  }
 },
 "nbformat": 4,
 "nbformat_minor": 2
}
