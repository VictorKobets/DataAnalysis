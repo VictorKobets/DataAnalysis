{
 "cells": [
  {
   "cell_type": "markdown",
   "metadata": {},
   "source": [
    "# Готовим LDA по рецептам"
   ]
  },
  {
   "cell_type": "markdown",
   "metadata": {},
   "source": [
    "Как вы уже знаете, в тематическом моделировании делается предположение о том, что для определения тематики порядок слов в документе не важен; об этом гласит гипотеза «мешка слов». Сегодня мы будем работать с несколько нестандартной для тематического моделирования коллекцией, которую можно назвать «мешком ингредиентов», потому что на состоит из рецептов блюд разных кухонь. Тематические модели ищут слова, которые часто вместе встречаются в документах, и составляют из них темы. Мы попробуем применить эту идею к рецептам и найти кулинарные «темы». Эта коллекция хороша тем, что не требует предобработки. Кроме того, эта задача достаточно наглядно иллюстрирует принцип работы тематических моделей."
   ]
  },
  {
   "cell_type": "markdown",
   "metadata": {},
   "source": [
    "### Загрузка данных"
   ]
  },
  {
   "cell_type": "markdown",
   "metadata": {},
   "source": [
    "Коллекция дана в json-формате: для каждого рецепта известны его id, кухня (cuisine) и список ингредиентов, в него входящих. Загрузить данные можно с помощью модуля json (он входит в дистрибутив Anaconda):"
   ]
  },
  {
   "cell_type": "code",
   "execution_count": 1,
   "metadata": {},
   "outputs": [],
   "source": [
    "import json"
   ]
  },
  {
   "cell_type": "code",
   "execution_count": 2,
   "metadata": {},
   "outputs": [],
   "source": [
    "with open(\"recipes.json\") as f:\n",
    "    recipes = json.load(f)"
   ]
  },
  {
   "cell_type": "code",
   "execution_count": 3,
   "metadata": {},
   "outputs": [
    {
     "name": "stdout",
     "output_type": "stream",
     "text": [
      "{u'cuisine': u'greek', u'id': 10259, u'ingredients': [u'romaine lettuce', u'black olives', u'grape tomatoes', u'garlic', u'pepper', u'purple onion', u'seasoning', u'garbanzo beans', u'feta cheese crumbles']}\n"
     ]
    }
   ],
   "source": [
    "print recipes[0]"
   ]
  },
  {
   "cell_type": "code",
   "execution_count": 4,
   "metadata": {},
   "outputs": [
    {
     "name": "stdout",
     "output_type": "stream",
     "text": [
      "<type 'dict'>\n"
     ]
    }
   ],
   "source": [
    "print(type(recipes[0]))"
   ]
  },
  {
   "cell_type": "markdown",
   "metadata": {},
   "source": [
    "### Составление корпуса"
   ]
  },
  {
   "cell_type": "code",
   "execution_count": 6,
   "metadata": {},
   "outputs": [],
   "source": [
    "from gensim import corpora, models\n",
    "import numpy as np"
   ]
  },
  {
   "cell_type": "markdown",
   "metadata": {},
   "source": [
    "Наша коллекция небольшая, и целиком помещается в оперативную память. Gensim может работать с такими данными и не требует их сохранения на диск в специальном формате. Для этого коллекция должна быть представлена в виде списка списков, каждый внутренний список соответствует отдельному документу и состоит из его слов. Пример коллекции из двух документов: \n",
    "\n",
    "[[\"hello\", \"world\"], [\"programming\", \"in\", \"python\"]]\n",
    "\n",
    "Преобразуем наши данные в такой формат, а затем создадим объекты corpus и dictionary, с которыми будет работать модель."
   ]
  },
  {
   "cell_type": "code",
   "execution_count": 7,
   "metadata": {},
   "outputs": [],
   "source": [
    "texts = [recipe[\"ingredients\"] for recipe in recipes]\n",
    "dictionary = corpora.Dictionary(texts)   # составляем словарь\n",
    "corpus = [dictionary.doc2bow(text) for text in texts]  # составляем корпус документов"
   ]
  },
  {
   "cell_type": "code",
   "execution_count": 8,
   "metadata": {},
   "outputs": [
    {
     "name": "stdout",
     "output_type": "stream",
     "text": [
      "[u'romaine lettuce', u'black olives', u'grape tomatoes', u'garlic', u'pepper', u'purple onion', u'seasoning', u'garbanzo beans', u'feta cheese crumbles']\n",
      "[(0, 1), (1, 1), (2, 1), (3, 1), (4, 1), (5, 1), (6, 1), (7, 1), (8, 1)]\n"
     ]
    }
   ],
   "source": [
    "print texts[0]\n",
    "print corpus[0]"
   ]
  },
  {
   "cell_type": "markdown",
   "metadata": {},
   "source": [
    "У объекта dictionary есть полезная переменная dictionary.token2id, позволяющая находить соответствие между ингредиентами и их индексами."
   ]
  },
  {
   "cell_type": "markdown",
   "metadata": {},
   "source": [
    "### Обучение модели\n",
    "Вам может понадобиться [документация](https://radimrehurek.com/gensim/models/ldamodel.html) LDA в gensim."
   ]
  },
  {
   "cell_type": "markdown",
   "metadata": {},
   "source": [
    "__Задание 1.__ Обучите модель LDA с 40 темами, установив количество проходов по коллекции 5 и оставив остальные параметры по умолчанию. \n",
    "\n",
    "\n",
    "Затем вызовите метод модели *show_topics*, указав количество тем 40 и количество токенов 10, и сохраните результат (топы ингредиентов в темах) в отдельную переменную. Если при вызове метода *show_topics* указать параметр *formatted=True*, то топы ингредиентов будет удобно выводить на печать, если *formatted=False*, будет удобно работать со списком программно. Выведите топы на печать, рассмотрите темы, а затем ответьте на вопрос:\n",
    "\n",
    "Сколько раз ингредиенты \"salt\", \"sugar\", \"water\", \"mushrooms\", \"chicken\", \"eggs\" встретились среди топов-10 всех 40 тем? При ответе __не нужно__ учитывать составные ингредиенты, например, \"hot water\".\n",
    "\n",
    "Передайте 6 чисел в функцию save_answers1 и загрузите сгенерированный файл в форму.\n",
    "\n",
    "У gensim нет возможности фиксировать случайное приближение через параметры метода, но библиотека использует numpy для инициализации матриц. Поэтому, по утверждению автора библиотеки, фиксировать случайное приближение нужно командой, которая написана в следующей ячейке. __Перед строкой кода с построением модели обязательно вставляйте указанную строку фиксации random.seed.__"
   ]
  },
  {
   "cell_type": "code",
   "execution_count": 9,
   "metadata": {},
   "outputs": [
    {
     "name": "stdout",
     "output_type": "stream",
     "text": [
      "CPU times: user 6min 29s, sys: 2.75 s, total: 6min 31s\n",
      "Wall time: 6min 38s\n"
     ]
    }
   ],
   "source": [
    "np.random.seed(76543)\n",
    "%time LDA_model = models.ldamodel.LdaModel(corpus = corpus, id2word = dictionary, num_topics = 40, passes = 5)"
   ]
  },
  {
   "cell_type": "code",
   "execution_count": 10,
   "metadata": {},
   "outputs": [],
   "source": [
    "topics = LDA_model.show_topics(num_topics = 40, num_words = 10, formatted = True)"
   ]
  },
  {
   "cell_type": "code",
   "execution_count": 11,
   "metadata": {
    "scrolled": false
   },
   "outputs": [
    {
     "data": {
      "text/plain": [
       "[(0,\n",
       "  u'0.089*\"cooking spray\" + 0.083*\"salt\" + 0.080*\"garlic cloves\" + 0.068*\"olive oil\" + 0.066*\"chopped onion\" + 0.037*\"crushed red pepper\" + 0.036*\"fat free less sodium chicken broth\" + 0.034*\"black pepper\" + 0.032*\"ground black pepper\" + 0.032*\"water\"'),\n",
       " (1,\n",
       "  u'0.085*\"carrots\" + 0.059*\"onions\" + 0.057*\"sauce\" + 0.056*\"cabbage\" + 0.046*\"spinach\" + 0.039*\"beef\" + 0.033*\"low sodium chicken broth\" + 0.033*\"water\" + 0.029*\"firm tofu\" + 0.028*\"green cabbage\"'),\n",
       " (2,\n",
       "  u'0.066*\"cracked black pepper\" + 0.059*\"dry red wine\" + 0.041*\"shortening\" + 0.041*\"beef broth\" + 0.040*\"vegetable oil cooking spray\" + 0.039*\"grape tomatoes\" + 0.035*\"cilantro sprigs\" + 0.031*\"french bread\" + 0.029*\"dried rosemary\" + 0.029*\"all-purpose flour\"'),\n",
       " (3,\n",
       "  u'0.133*\"potatoes\" + 0.124*\"oil\" + 0.063*\"salt\" + 0.059*\"chickpeas\" + 0.042*\"onions\" + 0.038*\"coriander\" + 0.034*\"pepper\" + 0.033*\"saffron\" + 0.031*\"chopped tomatoes\" + 0.026*\"vegetables\"'),\n",
       " (4,\n",
       "  u'0.062*\"green bell pepper\" + 0.058*\"garlic powder\" + 0.056*\"cayenne pepper\" + 0.053*\"salt\" + 0.044*\"paprika\" + 0.035*\"onions\" + 0.035*\"dried thyme\" + 0.032*\"worcestershire sauce\" + 0.027*\"onion powder\" + 0.027*\"ground black pepper\"'),\n",
       " (5,\n",
       "  u'0.077*\"ground cumin\" + 0.052*\"salt\" + 0.048*\"ground coriander\" + 0.036*\"onions\" + 0.036*\"olive oil\" + 0.033*\"garlic\" + 0.028*\"paprika\" + 0.026*\"tumeric\" + 0.023*\"cayenne pepper\" + 0.022*\"garlic cloves\"'),\n",
       " (6,\n",
       "  u'0.107*\"ground cinnamon\" + 0.087*\"ground nutmeg\" + 0.056*\"honey\" + 0.047*\"ground allspice\" + 0.046*\"raisins\" + 0.046*\"ground cloves\" + 0.044*\"light brown sugar\" + 0.031*\"ground ginger\" + 0.030*\"brown sugar\" + 0.030*\"margarine\"'),\n",
       " (7,\n",
       "  u'0.085*\"zucchini\" + 0.080*\"plum tomatoes\" + 0.077*\"fresh basil\" + 0.074*\"olive oil\" + 0.047*\"eggplant\" + 0.039*\"salt\" + 0.031*\"grated parmesan cheese\" + 0.030*\"garlic cloves\" + 0.030*\"red bell pepper\" + 0.029*\"spaghetti\"'),\n",
       " (8,\n",
       "  u'0.087*\"rice\" + 0.077*\"cooking oil\" + 0.067*\"salt\" + 0.059*\"water\" + 0.051*\"basmati rice\" + 0.049*\"vinegar\" + 0.046*\"ginger\" + 0.036*\"curry leaves\" + 0.029*\"mint leaves\" + 0.023*\"red cabbage\"'),\n",
       " (9,\n",
       "  u'0.079*\"dried oregano\" + 0.073*\"onions\" + 0.061*\"garlic\" + 0.057*\"tomato sauce\" + 0.053*\"salt\" + 0.050*\"ground beef\" + 0.049*\"diced tomatoes\" + 0.043*\"dried basil\" + 0.040*\"tomato paste\" + 0.035*\"olive oil\"'),\n",
       " (10,\n",
       "  u'0.049*\"white wine\" + 0.048*\"ground black pepper\" + 0.037*\"butter\" + 0.036*\"russet potatoes\" + 0.031*\"chopped fresh chives\" + 0.030*\"kosher salt\" + 0.027*\"red potato\" + 0.027*\"ham\" + 0.026*\"large eggs\" + 0.024*\"salt\"'),\n",
       " (11,\n",
       "  u'0.067*\"jalapeno chilies\" + 0.064*\"salt\" + 0.051*\"avocado\" + 0.042*\"lime\" + 0.035*\"purple onion\" + 0.034*\"garlic\" + 0.032*\"olive oil\" + 0.032*\"fresh cilantro\" + 0.031*\"cilantro\" + 0.029*\"lime juice\"'),\n",
       " (12,\n",
       "  u'0.134*\"cucumber\" + 0.070*\"lean ground beef\" + 0.046*\"cider vinegar\" + 0.045*\"feta cheese\" + 0.040*\"lemon wedge\" + 0.039*\"romaine lettuce\" + 0.035*\"cream\" + 0.034*\"cherry tomatoes\" + 0.031*\"chili\" + 0.027*\"taco seasoning mix\"'),\n",
       " (13,\n",
       "  u'0.086*\"sour cream\" + 0.056*\"salsa\" + 0.049*\"shredded cheddar cheese\" + 0.048*\"flour tortillas\" + 0.041*\"chili powder\" + 0.039*\"black beans\" + 0.034*\"green onions\" + 0.031*\"ground cumin\" + 0.026*\"corn tortillas\" + 0.024*\"cheddar cheese\"'),\n",
       " (14,\n",
       "  u'0.111*\"white sugar\" + 0.086*\"sweet potatoes\" + 0.058*\"fresh mint\" + 0.050*\"black peppercorns\" + 0.045*\"fennel seeds\" + 0.037*\"red wine\" + 0.032*\"vegetable stock\" + 0.024*\"sugar\" + 0.023*\"maple syrup\" + 0.022*\"garlic chili sauce\"'),\n",
       " (15,\n",
       "  u'0.090*\"cold water\" + 0.072*\"cinnamon sticks\" + 0.057*\"boiling water\" + 0.044*\"sugar\" + 0.041*\"star anise\" + 0.033*\"slivered almonds\" + 0.029*\"cake flour\" + 0.027*\"panko breadcrumbs\" + 0.026*\"green olives\" + 0.024*\"apple cider vinegar\"'),\n",
       " (16,\n",
       "  u'0.101*\"extra-virgin olive oil\" + 0.060*\"garlic cloves\" + 0.050*\"olive oil\" + 0.046*\"flat leaf parsley\" + 0.039*\"freshly ground pepper\" + 0.039*\"fresh lemon juice\" + 0.038*\"salt\" + 0.036*\"dry white wine\" + 0.032*\"large garlic cloves\" + 0.029*\"ground black pepper\"'),\n",
       " (17,\n",
       "  u'0.140*\"coconut milk\" + 0.054*\"parsley\" + 0.048*\"thyme\" + 0.045*\"chicken thighs\" + 0.035*\"garlic\" + 0.033*\"coconut oil\" + 0.033*\"onions\" + 0.025*\"Thai red curry paste\" + 0.024*\"bread\" + 0.020*\"salt\"'),\n",
       " (18,\n",
       "  u'0.103*\"salt\" + 0.090*\"all-purpose flour\" + 0.087*\"eggs\" + 0.085*\"milk\" + 0.070*\"butter\" + 0.055*\"baking powder\" + 0.050*\"sugar\" + 0.040*\"flour\" + 0.034*\"baking soda\" + 0.030*\"buttermilk\"'),\n",
       " (19,\n",
       "  u'0.135*\"curry powder\" + 0.071*\"frozen peas\" + 0.065*\"long-grain rice\" + 0.053*\"sweetened condensed milk\" + 0.046*\"greek yogurt\" + 0.038*\"egg whites\" + 0.032*\"cauliflower\" + 0.030*\"cardamom pods\" + 0.028*\"black-eyed peas\" + 0.026*\"ground cayenne pepper\"'),\n",
       " (20,\n",
       "  u'0.044*\"peanut oil\" + 0.042*\"ground white pepper\" + 0.035*\"beansprouts\" + 0.035*\"Sriracha\" + 0.032*\"rice noodles\" + 0.032*\"medium shrimp\" + 0.030*\"peanuts\" + 0.025*\"minced ginger\" + 0.025*\"fish sauce\" + 0.024*\"english cucumber\"'),\n",
       " (21,\n",
       "  u'0.116*\"boneless skinless chicken breast halves\" + 0.107*\"coarse salt\" + 0.067*\"ground pepper\" + 0.060*\"sweet onion\" + 0.055*\"mayonaise\" + 0.042*\"pork tenderloin\" + 0.040*\"minced garlic\" + 0.038*\"juice\" + 0.035*\"minced onion\" + 0.031*\"dried parsley\"'),\n",
       " (22,\n",
       "  u'0.080*\"diced onions\" + 0.054*\"lettuce\" + 0.054*\"self rising flour\" + 0.048*\"provolone cheese\" + 0.032*\"iceberg lettuce\" + 0.028*\"frozen pastry puff sheets\" + 0.026*\"romano cheese\" + 0.025*\"semi-sweet chocolate morsels\" + 0.024*\"shredded cheese\" + 0.024*\"reduced-fat sour cream\"'),\n",
       " (23,\n",
       "  u'0.186*\"lemon juice\" + 0.092*\"dijon mustard\" + 0.051*\"creole seasoning\" + 0.040*\"white pepper\" + 0.039*\"fresh orange juice\" + 0.038*\"nutmeg\" + 0.029*\"kale\" + 0.028*\"mayonaise\" + 0.028*\"salmon fillets\" + 0.027*\"cream cheese, soften\"'),\n",
       " (24,\n",
       "  u'0.082*\"sugar\" + 0.072*\"whipping cream\" + 0.057*\"orange juice\" + 0.054*\"hot water\" + 0.050*\"chopped garlic\" + 0.049*\"orange\" + 0.033*\"bananas\" + 0.030*\"bread flour\" + 0.029*\"water\" + 0.029*\"brandy\"'),\n",
       " (25,\n",
       "  u'0.066*\"salt\" + 0.063*\"cumin seed\" + 0.054*\"onions\" + 0.045*\"ground turmeric\" + 0.041*\"garam masala\" + 0.041*\"green chilies\" + 0.040*\"clove\" + 0.031*\"chili powder\" + 0.031*\"tomatoes\" + 0.028*\"oil\"'),\n",
       " (26,\n",
       "  u'0.084*\"fish sauce\" + 0.046*\"white vinegar\" + 0.042*\"sugar\" + 0.037*\"garlic\" + 0.036*\"lime juice\" + 0.035*\"vegetable oil\" + 0.034*\"shallots\" + 0.030*\"water\" + 0.030*\"lemongrass\" + 0.027*\"red chili peppers\"'),\n",
       " (27,\n",
       "  u'0.103*\"grated parmesan cheese\" + 0.056*\"warm water\" + 0.056*\"salt\" + 0.046*\"shredded mozzarella cheese\" + 0.043*\"olive oil\" + 0.038*\"ricotta cheese\" + 0.037*\"active dry yeast\" + 0.036*\"mozzarella cheese\" + 0.032*\"butter\" + 0.031*\"italian seasoning\"'),\n",
       " (28,\n",
       "  u'0.199*\"shrimp\" + 0.057*\"pork\" + 0.055*\"baby spinach\" + 0.034*\"jasmine rice\" + 0.033*\"unsweetened coconut milk\" + 0.033*\"fresh tomatoes\" + 0.032*\"noodles\" + 0.031*\"black mustard seeds\" + 0.028*\"sausage casings\" + 0.025*\"sea scallops\"'),\n",
       " (29,\n",
       "  u'0.134*\"mushrooms\" + 0.082*\"white wine vinegar\" + 0.048*\"shallots\" + 0.042*\"boneless chicken breast\" + 0.034*\"olive oil\" + 0.033*\"chopped fresh sage\" + 0.027*\"butter\" + 0.026*\"chorizo sausage\" + 0.026*\"blanched almonds\" + 0.024*\"chicken drumsticks\"'),\n",
       " (30,\n",
       "  u'0.089*\"large eggs\" + 0.088*\"unsalted butter\" + 0.067*\"sugar\" + 0.057*\"salt\" + 0.054*\"all-purpose flour\" + 0.050*\"heavy cream\" + 0.038*\"whole milk\" + 0.033*\"vanilla extract\" + 0.033*\"granulated sugar\" + 0.029*\"large egg yolks\"'),\n",
       " (31,\n",
       "  u'0.071*\"salt\" + 0.063*\"ground red pepper\" + 0.052*\"water\" + 0.052*\"finely chopped onion\" + 0.046*\"chopped celery\" + 0.032*\"green beans\" + 0.031*\"hot pepper sauce\" + 0.031*\"long grain white rice\" + 0.030*\"chopped onion\" + 0.028*\"chopped green bell pepper\"'),\n",
       " (32,\n",
       "  u'0.063*\"water\" + 0.060*\"fine sea salt\" + 0.050*\"lemon zest\" + 0.049*\"fresh spinach\" + 0.041*\"yukon gold potatoes\" + 0.036*\"sesame seeds\" + 0.034*\"collard greens\" + 0.032*\"parmigiano reggiano cheese\" + 0.031*\"rice flour\" + 0.029*\"tofu\"'),\n",
       " (33,\n",
       "  u'0.133*\"balsamic vinegar\" + 0.070*\"dark soy sauce\" + 0.066*\"chopped fresh mint\" + 0.063*\"baguette\" + 0.051*\"broccoli\" + 0.031*\"penne\" + 0.031*\"mint\" + 0.028*\"tequila\" + 0.019*\"red kidney beans\" + 0.018*\"arugula\"'),\n",
       " (34,\n",
       "  u'0.089*\"onions\" + 0.074*\"salt\" + 0.059*\"garlic\" + 0.049*\"olive oil\" + 0.041*\"bay leaves\" + 0.041*\"ground black pepper\" + 0.038*\"chicken stock\" + 0.037*\"pepper\" + 0.037*\"carrots\" + 0.032*\"chicken\"'),\n",
       " (35,\n",
       "  u'0.097*\"soy sauce\" + 0.052*\"sesame oil\" + 0.042*\"sugar\" + 0.042*\"corn starch\" + 0.039*\"garlic\" + 0.035*\"green onions\" + 0.035*\"scallions\" + 0.034*\"rice vinegar\" + 0.029*\"salt\" + 0.028*\"water\"'),\n",
       " (36,\n",
       "  u'0.109*\"cheese\" + 0.064*\"garlic salt\" + 0.061*\"rice wine\" + 0.058*\"chives\" + 0.043*\"chicken breast halves\" + 0.041*\"shredded sharp cheddar cheese\" + 0.040*\"roasted peanuts\" + 0.039*\"Mexican cheese blend\" + 0.037*\"non-fat sour cream\" + 0.034*\"dashi\"'),\n",
       " (37,\n",
       "  u'0.180*\"chicken broth\" + 0.101*\"chicken breasts\" + 0.062*\"onions\" + 0.053*\"crushed red pepper flakes\" + 0.053*\"garlic\" + 0.041*\"pepper\" + 0.038*\"chopped parsley\" + 0.035*\"salt\" + 0.034*\"olive oil\" + 0.025*\"bay leaf\"'),\n",
       " (38,\n",
       "  u'0.064*\"olive oil\" + 0.060*\"red wine vinegar\" + 0.054*\"salt\" + 0.045*\"parmesan cheese\" + 0.041*\"garlic\" + 0.040*\"fresh basil leaves\" + 0.037*\"extra-virgin olive oil\" + 0.031*\"pepper\" + 0.030*\"ground black pepper\" + 0.030*\"tomatoes\"'),\n",
       " (39,\n",
       "  u'0.101*\"canola oil\" + 0.066*\"fresh lime juice\" + 0.063*\"chopped cilantro fresh\" + 0.058*\"kosher salt\" + 0.054*\"garlic cloves\" + 0.034*\"peeled fresh ginger\" + 0.030*\"chiles\" + 0.029*\"vegetable oil\" + 0.028*\"serrano chile\" + 0.026*\"boneless chicken skinless thigh\"')]"
      ]
     },
     "execution_count": 11,
     "metadata": {},
     "output_type": "execute_result"
    }
   ],
   "source": [
    "topics"
   ]
  },
  {
   "cell_type": "code",
   "execution_count": 13,
   "metadata": {
    "scrolled": false
   },
   "outputs": [
    {
     "name": "stdout",
     "output_type": "stream",
     "text": [
      "[('mushrooms', 1), ('eggs', 1), ('sugar', 7), ('water', 8), ('chicken', 1), ('salt', 20)]\n"
     ]
    }
   ],
   "source": [
    "top_word = {'salt': 0,\n",
    "        'sugar': 0,\n",
    "        'water': 0,\n",
    "        'mushrooms': 0,\n",
    "        'chicken': 0,\n",
    "        'eggs': 0}\n",
    "\n",
    "for tema in topics:\n",
    "    super_dictionary = tema[1].split('\"')\n",
    "    for word in super_dictionary:\n",
    "        if word == 'salt':\n",
    "            top_word['salt'] += 1\n",
    "        elif word == 'sugar':\n",
    "            top_word['sugar'] += 1\n",
    "        elif word == 'water':\n",
    "            top_word['water'] += 1\n",
    "        elif word == 'mushrooms':\n",
    "            top_word['mushrooms'] += 1\n",
    "        elif word == 'chicken':\n",
    "            top_word['chicken'] += 1\n",
    "        elif word == 'eggs':\n",
    "            top_word['eggs'] += 1\n",
    "            \n",
    "print top_word.items()"
   ]
  },
  {
   "cell_type": "code",
   "execution_count": 14,
   "metadata": {},
   "outputs": [],
   "source": [
    "def save_answers1(c_salt, c_sugar, c_water, c_mushrooms, c_chicken, c_eggs):\n",
    "    with open(\"cooking_LDA_pa_task1.txt\", \"w\") as fout:\n",
    "        fout.write(\" \".join([str(el) for el in [c_salt, c_sugar, c_water, c_mushrooms, c_chicken, c_eggs]]))"
   ]
  },
  {
   "cell_type": "code",
   "execution_count": 15,
   "metadata": {},
   "outputs": [],
   "source": [
    "c_salt = top_word['salt']\n",
    "c_sugar = top_word['sugar']\n",
    "c_water = top_word['water']\n",
    "c_mushrooms = top_word['mushrooms']\n",
    "c_chicken = top_word['chicken']\n",
    "c_eggs = top_word['eggs']\n",
    "\n",
    "save_answers1(c_salt, c_sugar, c_water, c_mushrooms, c_chicken, c_eggs)"
   ]
  },
  {
   "cell_type": "markdown",
   "metadata": {},
   "source": [
    "### Фильтрация словаря\n",
    "В топах тем гораздо чаще встречаются первые три рассмотренных ингредиента, чем последние три. При этом наличие в рецепте курицы, яиц и грибов яснее дает понять, что мы будем готовить, чем наличие соли, сахара и воды. Таким образом, даже в рецептах есть слова, часто встречающиеся в текстах и не несущие смысловой нагрузки, и поэтому их не желательно видеть в темах. Наиболее простой прием борьбы с такими фоновыми элементами — фильтрация словаря по частоте. Обычно словарь фильтруют с двух сторон: убирают очень редкие слова (в целях экономии памяти) и очень частые слова (в целях повышения интерпретируемости тем). Мы уберем только частые слова."
   ]
  },
  {
   "cell_type": "code",
   "execution_count": 17,
   "metadata": {},
   "outputs": [],
   "source": [
    "import copy\n",
    "dictionary2 = copy.deepcopy(dictionary)\n",
    "dictionary3 = copy.deepcopy(dictionary)"
   ]
  },
  {
   "cell_type": "markdown",
   "metadata": {},
   "source": [
    "__Задание 2.__ У объекта dictionary2 есть переменная *dfs* — это словарь, ключами которого являются id токена, а элементами — число раз, сколько слово встретилось во всей коллекции. Сохраните в отдельный список ингредиенты, которые встретились в коллекции больше 4000 раз. Вызовите метод словаря *filter_tokens*, подав в качестве первого аргумента полученный список популярных ингредиентов. Вычислите две величины: dict_size_before и dict_size_after — размер словаря до и после фильтрации.\n",
    "\n",
    "Затем, используя новый словарь, создайте новый корпус документов, corpus2, по аналогии с тем, как это сделано в начале ноутбука. Вычислите две величины: corpus_size_before и corpus_size_after — суммарное количество ингредиентов в корпусе (для каждого документа вычислите число различных ингредиентов в нем и просуммируйте по всем документам) до и после фильтрации.\n",
    "\n",
    "Передайте величины dict_size_before, dict_size_after, corpus_size_before, corpus_size_after в функцию save_answers2 и загрузите сгенерированный файл в форму."
   ]
  },
  {
   "cell_type": "code",
   "execution_count": 18,
   "metadata": {},
   "outputs": [],
   "source": [
    "super_dictionary_token = dictionary2.dfs"
   ]
  },
  {
   "cell_type": "code",
   "execution_count": 19,
   "metadata": {
    "scrolled": false
   },
   "outputs": [],
   "source": [
    "popular_ingredients = []\n",
    "for key in super_dictionary_token:\n",
    "    if super_dictionary_token[key] > 4000:\n",
    "        popular_ingredients.append(key)"
   ]
  },
  {
   "cell_type": "code",
   "execution_count": 20,
   "metadata": {},
   "outputs": [
    {
     "name": "stdout",
     "output_type": "stream",
     "text": [
      "[0, 4, 9, 12, 17, 21, 29, 45, 48, 54, 100, 117]\n"
     ]
    }
   ],
   "source": [
    "print popular_ingredients"
   ]
  },
  {
   "cell_type": "code",
   "execution_count": 21,
   "metadata": {},
   "outputs": [],
   "source": [
    "super_dictionary_token_after = dictionary3.filter_tokens(popular_ingredients)"
   ]
  },
  {
   "cell_type": "code",
   "execution_count": 22,
   "metadata": {
    "scrolled": true
   },
   "outputs": [
    {
     "name": "stdout",
     "output_type": "stream",
     "text": [
      "Dictionary(6714 unique tokens: [u'low-sodium fat-free chicken broth', u'sweetened coconut', u'baking chocolate', u'egg roll wrappers', u'bottled low sodium salsa']...)\n",
      "\n",
      "\n",
      "Dictionary(6702 unique tokens: [u'low-sodium fat-free chicken broth', u'sweetened coconut', u'baking chocolate', u'egg roll wrappers', u'bottled low sodium salsa']...)\n"
     ]
    }
   ],
   "source": [
    "print dictionary2\n",
    "print '\\n'\n",
    "print dictionary3"
   ]
  },
  {
   "cell_type": "code",
   "execution_count": 23,
   "metadata": {},
   "outputs": [],
   "source": [
    "dict_size_before = 6714\n",
    "\n",
    "dict_size_after = 6702"
   ]
  },
  {
   "cell_type": "code",
   "execution_count": 24,
   "metadata": {},
   "outputs": [],
   "source": [
    "corpus2 = [dictionary3.doc2bow(text) for text in texts]  # составляем корпус документов"
   ]
  },
  {
   "cell_type": "code",
   "execution_count": 25,
   "metadata": {},
   "outputs": [],
   "source": [
    "corpus_size_before = 0\n",
    "corpus_size_after = 0\n",
    "\n",
    "for i in range(len(corpus)):\n",
    "    corpus_size_before += len(corpus[i])\n",
    "    \n",
    "for i in range(len(corpus2)):\n",
    "    corpus_size_after += len(corpus2[i])"
   ]
  },
  {
   "cell_type": "code",
   "execution_count": 26,
   "metadata": {},
   "outputs": [],
   "source": [
    "def save_answers2(dict_size_before, dict_size_after, corpus_size_before, corpus_size_after):\n",
    "    with open(\"cooking_LDA_pa_task2.txt\", \"w\") as fout:\n",
    "        fout.write(\" \".join([str(el) for el in [dict_size_before, dict_size_after, corpus_size_before, corpus_size_after]]))"
   ]
  },
  {
   "cell_type": "code",
   "execution_count": 27,
   "metadata": {},
   "outputs": [],
   "source": [
    "save_answers2(dict_size_before, dict_size_after, corpus_size_before, corpus_size_after)"
   ]
  },
  {
   "cell_type": "markdown",
   "metadata": {},
   "source": [
    "### Сравнение когерентностей\n",
    "__Задание 3.__ Постройте еще одну модель по корпусу corpus2 и словарю dictionary2, остальные параметры оставьте такими же, как при первом построении модели. Сохраните новую модель в другую переменную (не перезаписывайте предыдущую модель). Не забудьте про фиксирование seed!\n",
    "\n",
    "Затем воспользуйтесь методом *top_topics* модели, чтобы вычислить ее когерентность. Передайте в качестве аргумента соответствующий модели корпус. Метод вернет список кортежей (топ токенов, когерентность), отсортированных по убыванию последней. Вычислите среднюю по всем темам когерентность для каждой из двух моделей и передайте в функцию save_answers3. "
   ]
  },
  {
   "cell_type": "code",
   "execution_count": 28,
   "metadata": {},
   "outputs": [
    {
     "name": "stdout",
     "output_type": "stream",
     "text": [
      "CPU times: user 5min 43s, sys: 2.13 s, total: 5min 45s\n",
      "Wall time: 5min 50s\n"
     ]
    }
   ],
   "source": [
    "np.random.seed(76543)\n",
    "%time LDA_model_three = models.ldamodel.LdaModel(corpus = corpus2, id2word = dictionary2, num_topics = 40, passes = 5)"
   ]
  },
  {
   "cell_type": "code",
   "execution_count": 30,
   "metadata": {},
   "outputs": [],
   "source": [
    "top_tokens_kogerentnost_1 = LDA_model.top_topics(corpus)\n",
    "top_tokens_kogerentnost_2 = LDA_model_three.top_topics(corpus2)"
   ]
  },
  {
   "cell_type": "code",
   "execution_count": 31,
   "metadata": {},
   "outputs": [],
   "source": [
    "coherence = 0\n",
    "coherence2 = 0\n",
    "for i in range(len(top_tokens_kogerentnost_1)):\n",
    "    coherence += (top_tokens_kogerentnost_1[i][1]) / (len(top_tokens_kogerentnost_1))\n",
    "    coherence2 += (top_tokens_kogerentnost_2[i][1]) / (len(top_tokens_kogerentnost_2))"
   ]
  },
  {
   "cell_type": "code",
   "execution_count": 32,
   "metadata": {},
   "outputs": [],
   "source": [
    "def save_answers3(coherence, coherence2):\n",
    "    with open(\"cooking_LDA_pa_task3.txt\", \"w\") as fout:\n",
    "        fout.write(\" \".join([\"%3f\"%el for el in [coherence, coherence2]]))"
   ]
  },
  {
   "cell_type": "code",
   "execution_count": 33,
   "metadata": {},
   "outputs": [],
   "source": [
    "save_answers3(coherence, coherence2)"
   ]
  },
  {
   "cell_type": "markdown",
   "metadata": {},
   "source": [
    "Считается, что когерентность хорошо соотносится с человеческими оценками интерпретируемости тем. Поэтому на больших текстовых коллекциях когерентность обычно повышается, если убрать фоновую лексику. Однако в нашем случае этого не произошло. "
   ]
  },
  {
   "cell_type": "markdown",
   "metadata": {},
   "source": [
    "### Изучение влияния гиперпараметра alpha"
   ]
  },
  {
   "cell_type": "markdown",
   "metadata": {},
   "source": [
    "В этом разделе мы будем работать со второй моделью, то есть той, которая построена по сокращенному корпусу. \n",
    "\n",
    "Пока что мы посмотрели только на матрицу темы-слова, теперь давайте посмотрим на матрицу темы-документы. Выведите темы для нулевого (или любого другого) документа из корпуса, воспользовавшись методом *get_document_topics* второй модели:"
   ]
  },
  {
   "cell_type": "code",
   "execution_count": 53,
   "metadata": {},
   "outputs": [],
   "source": [
    "bow = corpus2[0]\n",
    "topics = LDA_model_three.get_document_topics(bow)"
   ]
  },
  {
   "cell_type": "code",
   "execution_count": 54,
   "metadata": {},
   "outputs": [
    {
     "data": {
      "text/plain": [
       "[(3, 0.628124999999999), (21, 0.1281249999999998), (23, 0.1281249999999998)]"
      ]
     },
     "execution_count": 54,
     "metadata": {},
     "output_type": "execute_result"
    }
   ],
   "source": [
    "topics"
   ]
  },
  {
   "cell_type": "markdown",
   "metadata": {},
   "source": [
    "Также выведите содержимое переменной *.alpha* второй модели:"
   ]
  },
  {
   "cell_type": "code",
   "execution_count": 55,
   "metadata": {},
   "outputs": [
    {
     "name": "stdout",
     "output_type": "stream",
     "text": [
      "0.025\n"
     ]
    }
   ],
   "source": [
    "alph = LDA_model_three.alpha\n",
    "print alph[0]"
   ]
  },
  {
   "cell_type": "markdown",
   "metadata": {},
   "source": [
    "У вас должно получиться, что документ характеризуется небольшим числом тем. Попробуем поменять гиперпараметр alpha, задающий априорное распределение Дирихле для распределений тем в документах."
   ]
  },
  {
   "cell_type": "markdown",
   "metadata": {},
   "source": [
    "__Задание 4.__ Обучите третью модель: используйте сокращенный корпус (corpus2 и dictionary2) и установите параметр __alpha=1__, passes=5. Не забудьте про фиксацию seed! Выведите темы новой модели для нулевого документа; должно получиться, что распределение над множеством тем практически равномерное. Чтобы убедиться в том, что во второй модели документы описываются гораздо более разреженными распределениями, чем в третьей, посчитайте суммарное количество элементов, __превосходящих 0.01__, в матрицах темы-документы обеих моделей. Другими словами, запросите темы  модели для каждого документа с параметром *minimum_probability=0.01* и просуммируйте число элементов в получаемых массивах. Передайте две суммы (сначала для модели с alpha по умолчанию, затем для модели в alpha=1) в функцию save_answers4."
   ]
  },
  {
   "cell_type": "code",
   "execution_count": 52,
   "metadata": {},
   "outputs": [
    {
     "name": "stdout",
     "output_type": "stream",
     "text": [
      "CPU times: user 15min 38s, sys: 4.37 s, total: 15min 42s\n",
      "Wall time: 15min 49s\n"
     ]
    }
   ],
   "source": [
    "np.random.seed(76543)\n",
    "%time LDA_model_four = models.ldamodel.LdaModel(corpus = corpus2, id2word = dictionary2, num_topics = 40, passes = 5, alpha = 1)"
   ]
  },
  {
   "cell_type": "code",
   "execution_count": 56,
   "metadata": {},
   "outputs": [],
   "source": [
    "bow_new = corpus2[0]\n",
    "topics = LDA_model_four.get_document_topics(bow)"
   ]
  },
  {
   "cell_type": "code",
   "execution_count": 63,
   "metadata": {
    "scrolled": false
   },
   "outputs": [
    {
     "data": {
      "text/plain": [
       "[(0, 0.021277839257091438),\n",
       " (1, 0.0212774673062234),\n",
       " (2, 0.021347106807850815),\n",
       " (3, 0.081907574816906),\n",
       " (4, 0.021356758592252747),\n",
       " (5, 0.02127666833823671),\n",
       " (6, 0.021282718723840098),\n",
       " (7, 0.02135216402312965),\n",
       " (8, 0.02129786490147947),\n",
       " (9, 0.021352985398777447),\n",
       " (10, 0.04287766455814259),\n",
       " (11, 0.02132748672299583),\n",
       " (12, 0.02485503670412019),\n",
       " (13, 0.042004222151580776),\n",
       " (14, 0.021413296498939225),\n",
       " (15, 0.021293211612785534),\n",
       " (16, 0.02127661178856046),\n",
       " (17, 0.04256778678254317),\n",
       " (18, 0.04047927743144199),\n",
       " (19, 0.021276843849255423),\n",
       " (20, 0.021646643569864902),\n",
       " (21, 0.021302723365674694),\n",
       " (22, 0.0212890679694442),\n",
       " (23, 0.021330066265674984),\n",
       " (24, 0.021284779751625755),\n",
       " (25, 0.02127659574468085),\n",
       " (26, 0.021299416174953047),\n",
       " (27, 0.021286663303279947),\n",
       " (28, 0.02141167992142519),\n",
       " (29, 0.02127659574468085),\n",
       " (30, 0.021276595744695273),\n",
       " (31, 0.02127659574468085),\n",
       " (32, 0.021419567804785985),\n",
       " (33, 0.02128930620347274),\n",
       " (34, 0.021398849209141143),\n",
       " (35, 0.0215608962729313),\n",
       " (36, 0.021300134191353057),\n",
       " (37, 0.021371869042106688),\n",
       " (38, 0.021321991666565104),\n",
       " (39, 0.02127937604281046)]"
      ]
     },
     "execution_count": 63,
     "metadata": {},
     "output_type": "execute_result"
    }
   ],
   "source": [
    "topics"
   ]
  },
  {
   "cell_type": "code",
   "execution_count": 65,
   "metadata": {},
   "outputs": [
    {
     "name": "stdout",
     "output_type": "stream",
     "text": [
      "202005\n",
      "\n",
      "\n",
      "1590960\n"
     ]
    }
   ],
   "source": [
    "count_model2_list = []\n",
    "count_model3_list = []\n",
    "\n",
    "for i in range(len(corpus2)):\n",
    "    list_topics_2 = LDA_model_three.get_document_topics(corpus2[i], minimum_probability = 0.01)\n",
    "    count_model2_list.append(len(list_topics_2))\n",
    "    \n",
    "    list_topics_3 = LDA_model_four.get_document_topics(corpus2[i], minimum_probability = 0.01)\n",
    "    count_model3_list.append(len(list_topics_3))\n",
    "    \n",
    "count_model2 = sum(count_model2_list)\n",
    "count_model3 = sum(count_model3_list)\n",
    "\n",
    "print(count_model2)\n",
    "print '\\n'\n",
    "print(count_model3)"
   ]
  },
  {
   "cell_type": "code",
   "execution_count": 66,
   "metadata": {},
   "outputs": [],
   "source": [
    "def save_answers4(count_model2, count_model3):\n",
    "    with open(\"cooking_LDA_pa_task4.txt\", \"w\") as fout:\n",
    "        fout.write(\" \".join([str(el) for el in [count_model2, count_model3]]))"
   ]
  },
  {
   "cell_type": "code",
   "execution_count": 67,
   "metadata": {},
   "outputs": [],
   "source": [
    "save_answers4(count_model2, count_model3)"
   ]
  },
  {
   "cell_type": "markdown",
   "metadata": {},
   "source": [
    "Таким образом, гиперпараметр __alpha__ влияет на разреженность распределений тем в документах. Аналогично гиперпараметр __eta__ влияет на разреженность распределений слов в темах."
   ]
  },
  {
   "cell_type": "markdown",
   "metadata": {},
   "source": [
    "### LDA как способ понижения размерности\n",
    "Иногда, распределения над темами, найденные с помощью LDA, добавляют в матрицу объекты-признаки как дополнительные, семантические, признаки, и это может улучшить качество решения задачи. Для простоты давайте просто обучим классификатор рецептов на кухни на признаках, полученных из LDA, и измерим точность (accuracy).\n",
    "\n",
    "__Задание 5.__ Используйте модель, построенную по сокращенной выборке с alpha по умолчанию (вторую модель). Составьте матрицу $\\Theta = p(t|d)$ вероятностей тем в документах; вы можете использовать тот же метод get_document_topics, а также вектор правильных ответов y (в том же порядке, в котором рецепты идут в переменной recipes). Создайте объект RandomForestClassifier со 100 деревьями, с помощью функции cross_val_score вычислите среднюю accuracy по трем фолдам (перемешивать данные не нужно) и передайте в функцию save_answers5."
   ]
  },
  {
   "cell_type": "code",
   "execution_count": 69,
   "metadata": {},
   "outputs": [],
   "source": [
    "from sklearn.ensemble import RandomForestClassifier\n",
    "from sklearn.model_selection import cross_val_score"
   ]
  },
  {
   "cell_type": "code",
   "execution_count": 80,
   "metadata": {},
   "outputs": [],
   "source": [
    "matrix = []\n",
    "for i in range(len(corpus2)):\n",
    "    list_doc = LDA_model_three.get_document_topics(corpus2[i], minimum_probability = 0)\n",
    "    line = []\n",
    "    for j in list_doc:\n",
    "        line.append(j[1])\n",
    "    matrix.append(line)  "
   ]
  },
  {
   "cell_type": "code",
   "execution_count": 107,
   "metadata": {},
   "outputs": [],
   "source": [
    "cuisine_names = []\n",
    "for current_recipe_dict in recipes:\n",
    "    cuisine_names.append(current_recipe_dict['cuisine'])\n",
    "\n",
    "random_forest_classifier = RandomForestClassifier(n_estimators = 100, random_state=0)\n",
    "cross_validation_scores = cross_val_score(estimator = random_forest_classifier, X = matrix, y = cuisine_names)"
   ]
  },
  {
   "cell_type": "code",
   "execution_count": 108,
   "metadata": {},
   "outputs": [],
   "source": [
    "accuracy_mean_score = np.mean(cross_validation_scores)"
   ]
  },
  {
   "cell_type": "code",
   "execution_count": 109,
   "metadata": {},
   "outputs": [
    {
     "data": {
      "text/plain": [
       "0.5507128630436421"
      ]
     },
     "execution_count": 109,
     "metadata": {},
     "output_type": "execute_result"
    }
   ],
   "source": [
    "accuracy_mean_score"
   ]
  },
  {
   "cell_type": "code",
   "execution_count": 110,
   "metadata": {},
   "outputs": [],
   "source": [
    "def save_answers5(accuracy):\n",
    "     with open(\"cooking_LDA_pa_task5.txt\", \"w\") as fout:\n",
    "        fout.write(str(accuracy))"
   ]
  },
  {
   "cell_type": "code",
   "execution_count": 111,
   "metadata": {},
   "outputs": [],
   "source": [
    "save_answers5(accuracy_mean_score)"
   ]
  },
  {
   "cell_type": "markdown",
   "metadata": {},
   "source": [
    "Для такого большого количества классов это неплохая точность. Вы можете попроовать обучать RandomForest на исходной матрице частот слов, имеющей значительно большую размерность, и увидеть, что accuracy увеличивается на 10–15%. Таким образом, LDA собрал не всю, но достаточно большую часть информации из выборки, в матрице низкого ранга."
   ]
  },
  {
   "cell_type": "markdown",
   "metadata": {},
   "source": [
    "### LDA — вероятностная модель\n",
    "Матричное разложение, использующееся в LDA, интерпретируется как следующий процесс генерации документов.\n",
    "\n",
    "Для документа $d$ длины $n_d$:\n",
    "1. Из априорного распределения Дирихле с параметром alpha сгенерировать распределение над множеством тем: $\\theta_d \\sim Dirichlet(\\alpha)$\n",
    "1. Для каждого слова $w = 1, \\dots, n_d$:\n",
    "    1. Сгенерировать тему из дискретного распределения $t \\sim \\theta_{d}$\n",
    "    1. Сгенерировать слово из дискретного распределения $w \\sim \\phi_{t}$.\n",
    "    \n",
    "Подробнее об этом в [Википедии](https://en.wikipedia.org/wiki/Latent_Dirichlet_allocation).\n",
    "\n",
    "В контексте нашей задачи получается, что, используя данный генеративный процесс, можно создавать новые рецепты. Вы можете передать в функцию модель и число ингредиентов и сгенерировать рецепт :)"
   ]
  },
  {
   "cell_type": "code",
   "execution_count": 112,
   "metadata": {},
   "outputs": [],
   "source": [
    "def generate_recipe(model, num_ingredients):\n",
    "    theta = np.random.dirichlet(model.alpha)\n",
    "    for i in range(num_ingredients):\n",
    "        t = np.random.choice(np.arange(model.num_topics), p=theta)\n",
    "        topic = model.show_topic(t, topn=model.num_terms)\n",
    "        topic_distr = [x[1] for x in topic]\n",
    "        terms = [x[0] for x in topic]\n",
    "        w = np.random.choice(terms, p=topic_distr)\n",
    "        print w"
   ]
  },
  {
   "cell_type": "code",
   "execution_count": 113,
   "metadata": {},
   "outputs": [
    {
     "name": "stdout",
     "output_type": "stream",
     "text": [
      "apple schnapps\n",
      "smoked mozzarella\n",
      "pink lady apple\n",
      "mustard powder\n",
      "boneless pork shoulder roast\n"
     ]
    }
   ],
   "source": [
    "generate_recipe(LDA_model_three, 5)"
   ]
  },
  {
   "cell_type": "markdown",
   "metadata": {},
   "source": [
    "### Интерпретация построенной модели\n",
    "Вы можете рассмотреть топы ингредиентов каждой темы. Большиснтво тем сами по себе похожи на рецепты; в некоторых собираются продукты одного вида, например, свежие фрукты или разные виды сыра.\n",
    "\n",
    "Попробуем эмпирически соотнести наши темы с национальными кухнями (cuisine). Построим матрицу $A$ размера темы $x$ кухни, ее элементы $a_{tc}$ — суммы $p(t|d)$ по всем документам $d$, которые отнесены к кухне $c$. Нормируем матрицу на частоты рецептов по разным кухням, чтобы избежать дисбаланса между кухнями. Следующая функция получает на вход объект модели, объект корпуса и исходные данные и возвращает нормированную матрицу $A$. Ее удобно визуализировать с помощью seaborn."
   ]
  },
  {
   "cell_type": "code",
   "execution_count": 114,
   "metadata": {},
   "outputs": [],
   "source": [
    "import pandas\n",
    "import seaborn\n",
    "from matplotlib import pyplot as plt\n",
    "%matplotlib inline"
   ]
  },
  {
   "cell_type": "code",
   "execution_count": 115,
   "metadata": {},
   "outputs": [],
   "source": [
    "def compute_topic_cuisine_matrix(model, corpus, recipes):\n",
    "    # составляем вектор целевых признаков\n",
    "    targets = list(set([recipe[\"cuisine\"] for recipe in recipes]))\n",
    "    # составляем матрицу\n",
    "    tc_matrix = pandas.DataFrame(data=np.zeros((model.num_topics, len(targets))), columns=targets)\n",
    "    for recipe, bow in zip(recipes, corpus):\n",
    "        recipe_topic = model.get_document_topics(bow)\n",
    "        for t, prob in recipe_topic:\n",
    "            tc_matrix[recipe[\"cuisine\"]][t] += prob\n",
    "    # нормируем матрицу\n",
    "    target_sums = pandas.DataFrame(data=np.zeros((1, len(targets))), columns=targets)\n",
    "    for recipe in recipes:\n",
    "        target_sums[recipe[\"cuisine\"]] += 1\n",
    "    return pandas.DataFrame(tc_matrix.values/target_sums.values, columns=tc_matrix.columns)"
   ]
  },
  {
   "cell_type": "code",
   "execution_count": 116,
   "metadata": {},
   "outputs": [],
   "source": [
    "def plot_matrix(tc_matrix):\n",
    "    plt.figure(figsize=(10, 10))\n",
    "    seaborn.heatmap(tc_matrix, square=True)"
   ]
  },
  {
   "cell_type": "code",
   "execution_count": 117,
   "metadata": {
    "scrolled": false
   },
   "outputs": [
    {
     "data": {
      "text/html": [
       "<div>\n",
       "<style scoped>\n",
       "    .dataframe tbody tr th:only-of-type {\n",
       "        vertical-align: middle;\n",
       "    }\n",
       "\n",
       "    .dataframe tbody tr th {\n",
       "        vertical-align: top;\n",
       "    }\n",
       "\n",
       "    .dataframe thead th {\n",
       "        text-align: right;\n",
       "    }\n",
       "</style>\n",
       "<table border=\"1\" class=\"dataframe\">\n",
       "  <thead>\n",
       "    <tr style=\"text-align: right;\">\n",
       "      <th></th>\n",
       "      <th>irish</th>\n",
       "      <th>mexican</th>\n",
       "      <th>chinese</th>\n",
       "      <th>filipino</th>\n",
       "      <th>vietnamese</th>\n",
       "      <th>moroccan</th>\n",
       "      <th>brazilian</th>\n",
       "      <th>japanese</th>\n",
       "      <th>british</th>\n",
       "      <th>greek</th>\n",
       "      <th>indian</th>\n",
       "      <th>jamaican</th>\n",
       "      <th>french</th>\n",
       "      <th>spanish</th>\n",
       "      <th>russian</th>\n",
       "      <th>cajun_creole</th>\n",
       "      <th>thai</th>\n",
       "      <th>southern_us</th>\n",
       "      <th>korean</th>\n",
       "      <th>italian</th>\n",
       "    </tr>\n",
       "  </thead>\n",
       "  <tbody>\n",
       "    <tr>\n",
       "      <th>0</th>\n",
       "      <td>0.025448</td>\n",
       "      <td>0.008334</td>\n",
       "      <td>0.008180</td>\n",
       "      <td>0.006170</td>\n",
       "      <td>0.006791</td>\n",
       "      <td>0.049832</td>\n",
       "      <td>0.018264</td>\n",
       "      <td>0.006828</td>\n",
       "      <td>0.032601</td>\n",
       "      <td>0.016801</td>\n",
       "      <td>0.014063</td>\n",
       "      <td>0.061866</td>\n",
       "      <td>0.018376</td>\n",
       "      <td>0.011081</td>\n",
       "      <td>0.016964</td>\n",
       "      <td>0.010803</td>\n",
       "      <td>0.006369</td>\n",
       "      <td>0.032793</td>\n",
       "      <td>0.003122</td>\n",
       "      <td>0.009160</td>\n",
       "    </tr>\n",
       "    <tr>\n",
       "      <th>1</th>\n",
       "      <td>0.111878</td>\n",
       "      <td>0.017568</td>\n",
       "      <td>0.019534</td>\n",
       "      <td>0.019225</td>\n",
       "      <td>0.011790</td>\n",
       "      <td>0.018052</td>\n",
       "      <td>0.037629</td>\n",
       "      <td>0.021579</td>\n",
       "      <td>0.129450</td>\n",
       "      <td>0.026640</td>\n",
       "      <td>0.022585</td>\n",
       "      <td>0.038591</td>\n",
       "      <td>0.114296</td>\n",
       "      <td>0.041551</td>\n",
       "      <td>0.107501</td>\n",
       "      <td>0.037038</td>\n",
       "      <td>0.006985</td>\n",
       "      <td>0.139057</td>\n",
       "      <td>0.009753</td>\n",
       "      <td>0.049026</td>\n",
       "    </tr>\n",
       "    <tr>\n",
       "      <th>2</th>\n",
       "      <td>0.006251</td>\n",
       "      <td>0.208524</td>\n",
       "      <td>0.009038</td>\n",
       "      <td>0.013848</td>\n",
       "      <td>0.042349</td>\n",
       "      <td>0.036899</td>\n",
       "      <td>0.084946</td>\n",
       "      <td>0.010350</td>\n",
       "      <td>0.004487</td>\n",
       "      <td>0.010098</td>\n",
       "      <td>0.039604</td>\n",
       "      <td>0.047635</td>\n",
       "      <td>0.004532</td>\n",
       "      <td>0.034329</td>\n",
       "      <td>0.007760</td>\n",
       "      <td>0.011087</td>\n",
       "      <td>0.058176</td>\n",
       "      <td>0.013594</td>\n",
       "      <td>0.007609</td>\n",
       "      <td>0.005517</td>\n",
       "    </tr>\n",
       "    <tr>\n",
       "      <th>3</th>\n",
       "      <td>0.009648</td>\n",
       "      <td>0.024229</td>\n",
       "      <td>0.008802</td>\n",
       "      <td>0.015338</td>\n",
       "      <td>0.014330</td>\n",
       "      <td>0.021617</td>\n",
       "      <td>0.015020</td>\n",
       "      <td>0.015853</td>\n",
       "      <td>0.012728</td>\n",
       "      <td>0.115305</td>\n",
       "      <td>0.015151</td>\n",
       "      <td>0.010058</td>\n",
       "      <td>0.018812</td>\n",
       "      <td>0.026813</td>\n",
       "      <td>0.026873</td>\n",
       "      <td>0.016543</td>\n",
       "      <td>0.009145</td>\n",
       "      <td>0.009808</td>\n",
       "      <td>0.012522</td>\n",
       "      <td>0.018805</td>\n",
       "    </tr>\n",
       "    <tr>\n",
       "      <th>4</th>\n",
       "      <td>0.010729</td>\n",
       "      <td>0.013911</td>\n",
       "      <td>0.006423</td>\n",
       "      <td>0.004578</td>\n",
       "      <td>0.005844</td>\n",
       "      <td>0.005571</td>\n",
       "      <td>0.005489</td>\n",
       "      <td>0.002901</td>\n",
       "      <td>0.010802</td>\n",
       "      <td>0.029421</td>\n",
       "      <td>0.004930</td>\n",
       "      <td>0.009326</td>\n",
       "      <td>0.013900</td>\n",
       "      <td>0.014011</td>\n",
       "      <td>0.007882</td>\n",
       "      <td>0.016281</td>\n",
       "      <td>0.009939</td>\n",
       "      <td>0.013073</td>\n",
       "      <td>0.001995</td>\n",
       "      <td>0.035067</td>\n",
       "    </tr>\n",
       "    <tr>\n",
       "      <th>5</th>\n",
       "      <td>0.125122</td>\n",
       "      <td>0.019847</td>\n",
       "      <td>0.016851</td>\n",
       "      <td>0.068740</td>\n",
       "      <td>0.010088</td>\n",
       "      <td>0.025456</td>\n",
       "      <td>0.051926</td>\n",
       "      <td>0.029466</td>\n",
       "      <td>0.151491</td>\n",
       "      <td>0.032662</td>\n",
       "      <td>0.021200</td>\n",
       "      <td>0.051310</td>\n",
       "      <td>0.061180</td>\n",
       "      <td>0.040128</td>\n",
       "      <td>0.089590</td>\n",
       "      <td>0.026814</td>\n",
       "      <td>0.007496</td>\n",
       "      <td>0.092304</td>\n",
       "      <td>0.009270</td>\n",
       "      <td>0.032383</td>\n",
       "    </tr>\n",
       "    <tr>\n",
       "      <th>6</th>\n",
       "      <td>0.016957</td>\n",
       "      <td>0.032105</td>\n",
       "      <td>0.010478</td>\n",
       "      <td>0.017728</td>\n",
       "      <td>0.008581</td>\n",
       "      <td>0.041518</td>\n",
       "      <td>0.022500</td>\n",
       "      <td>0.007592</td>\n",
       "      <td>0.018295</td>\n",
       "      <td>0.043885</td>\n",
       "      <td>0.020753</td>\n",
       "      <td>0.055715</td>\n",
       "      <td>0.019820</td>\n",
       "      <td>0.038414</td>\n",
       "      <td>0.018677</td>\n",
       "      <td>0.101775</td>\n",
       "      <td>0.009546</td>\n",
       "      <td>0.034328</td>\n",
       "      <td>0.008022</td>\n",
       "      <td>0.050595</td>\n",
       "    </tr>\n",
       "    <tr>\n",
       "      <th>7</th>\n",
       "      <td>0.007073</td>\n",
       "      <td>0.007311</td>\n",
       "      <td>0.029846</td>\n",
       "      <td>0.024248</td>\n",
       "      <td>0.014892</td>\n",
       "      <td>0.004372</td>\n",
       "      <td>0.025630</td>\n",
       "      <td>0.013561</td>\n",
       "      <td>0.016510</td>\n",
       "      <td>0.003795</td>\n",
       "      <td>0.002469</td>\n",
       "      <td>0.014648</td>\n",
       "      <td>0.011856</td>\n",
       "      <td>0.011022</td>\n",
       "      <td>0.017565</td>\n",
       "      <td>0.008488</td>\n",
       "      <td>0.008065</td>\n",
       "      <td>0.013702</td>\n",
       "      <td>0.015687</td>\n",
       "      <td>0.007649</td>\n",
       "    </tr>\n",
       "    <tr>\n",
       "      <th>8</th>\n",
       "      <td>0.010152</td>\n",
       "      <td>0.009962</td>\n",
       "      <td>0.066339</td>\n",
       "      <td>0.093774</td>\n",
       "      <td>0.036387</td>\n",
       "      <td>0.006530</td>\n",
       "      <td>0.026005</td>\n",
       "      <td>0.023066</td>\n",
       "      <td>0.012439</td>\n",
       "      <td>0.004776</td>\n",
       "      <td>0.014769</td>\n",
       "      <td>0.034148</td>\n",
       "      <td>0.009337</td>\n",
       "      <td>0.010706</td>\n",
       "      <td>0.017101</td>\n",
       "      <td>0.010014</td>\n",
       "      <td>0.027820</td>\n",
       "      <td>0.014790</td>\n",
       "      <td>0.020482</td>\n",
       "      <td>0.005766</td>\n",
       "    </tr>\n",
       "    <tr>\n",
       "      <th>9</th>\n",
       "      <td>0.024391</td>\n",
       "      <td>0.007183</td>\n",
       "      <td>0.031187</td>\n",
       "      <td>0.033761</td>\n",
       "      <td>0.053149</td>\n",
       "      <td>0.009427</td>\n",
       "      <td>0.019303</td>\n",
       "      <td>0.019249</td>\n",
       "      <td>0.013903</td>\n",
       "      <td>0.004789</td>\n",
       "      <td>0.009658</td>\n",
       "      <td>0.015599</td>\n",
       "      <td>0.009760</td>\n",
       "      <td>0.008024</td>\n",
       "      <td>0.012395</td>\n",
       "      <td>0.009302</td>\n",
       "      <td>0.040457</td>\n",
       "      <td>0.014970</td>\n",
       "      <td>0.030717</td>\n",
       "      <td>0.007413</td>\n",
       "    </tr>\n",
       "    <tr>\n",
       "      <th>10</th>\n",
       "      <td>0.035261</td>\n",
       "      <td>0.018484</td>\n",
       "      <td>0.006645</td>\n",
       "      <td>0.005153</td>\n",
       "      <td>0.007731</td>\n",
       "      <td>0.028176</td>\n",
       "      <td>0.013428</td>\n",
       "      <td>0.005389</td>\n",
       "      <td>0.010882</td>\n",
       "      <td>0.039979</td>\n",
       "      <td>0.015880</td>\n",
       "      <td>0.012830</td>\n",
       "      <td>0.033765</td>\n",
       "      <td>0.045321</td>\n",
       "      <td>0.019423</td>\n",
       "      <td>0.058117</td>\n",
       "      <td>0.011941</td>\n",
       "      <td>0.031777</td>\n",
       "      <td>0.007528</td>\n",
       "      <td>0.037430</td>\n",
       "    </tr>\n",
       "    <tr>\n",
       "      <th>11</th>\n",
       "      <td>0.010702</td>\n",
       "      <td>0.006213</td>\n",
       "      <td>0.010654</td>\n",
       "      <td>0.008678</td>\n",
       "      <td>0.006233</td>\n",
       "      <td>0.012344</td>\n",
       "      <td>0.015473</td>\n",
       "      <td>0.008830</td>\n",
       "      <td>0.018281</td>\n",
       "      <td>0.018878</td>\n",
       "      <td>0.017934</td>\n",
       "      <td>0.004057</td>\n",
       "      <td>0.015572</td>\n",
       "      <td>0.018787</td>\n",
       "      <td>0.009332</td>\n",
       "      <td>0.008087</td>\n",
       "      <td>0.014024</td>\n",
       "      <td>0.008903</td>\n",
       "      <td>0.009546</td>\n",
       "      <td>0.083621</td>\n",
       "    </tr>\n",
       "    <tr>\n",
       "      <th>12</th>\n",
       "      <td>0.011439</td>\n",
       "      <td>0.212137</td>\n",
       "      <td>0.003432</td>\n",
       "      <td>0.006835</td>\n",
       "      <td>0.003913</td>\n",
       "      <td>0.007575</td>\n",
       "      <td>0.021764</td>\n",
       "      <td>0.002413</td>\n",
       "      <td>0.010823</td>\n",
       "      <td>0.014328</td>\n",
       "      <td>0.006677</td>\n",
       "      <td>0.008315</td>\n",
       "      <td>0.008754</td>\n",
       "      <td>0.009977</td>\n",
       "      <td>0.038901</td>\n",
       "      <td>0.010596</td>\n",
       "      <td>0.003982</td>\n",
       "      <td>0.015889</td>\n",
       "      <td>0.005430</td>\n",
       "      <td>0.010299</td>\n",
       "    </tr>\n",
       "    <tr>\n",
       "      <th>13</th>\n",
       "      <td>0.006530</td>\n",
       "      <td>0.014681</td>\n",
       "      <td>0.006537</td>\n",
       "      <td>0.011566</td>\n",
       "      <td>0.007671</td>\n",
       "      <td>0.005645</td>\n",
       "      <td>0.009533</td>\n",
       "      <td>0.013481</td>\n",
       "      <td>0.006915</td>\n",
       "      <td>0.007961</td>\n",
       "      <td>0.030282</td>\n",
       "      <td>0.031597</td>\n",
       "      <td>0.005901</td>\n",
       "      <td>0.012323</td>\n",
       "      <td>0.018045</td>\n",
       "      <td>0.027274</td>\n",
       "      <td>0.006288</td>\n",
       "      <td>0.018249</td>\n",
       "      <td>0.004256</td>\n",
       "      <td>0.007219</td>\n",
       "    </tr>\n",
       "    <tr>\n",
       "      <th>14</th>\n",
       "      <td>0.011786</td>\n",
       "      <td>0.022303</td>\n",
       "      <td>0.005823</td>\n",
       "      <td>0.011758</td>\n",
       "      <td>0.007774</td>\n",
       "      <td>0.045794</td>\n",
       "      <td>0.015584</td>\n",
       "      <td>0.005640</td>\n",
       "      <td>0.009515</td>\n",
       "      <td>0.144951</td>\n",
       "      <td>0.011222</td>\n",
       "      <td>0.006323</td>\n",
       "      <td>0.050350</td>\n",
       "      <td>0.089970</td>\n",
       "      <td>0.020405</td>\n",
       "      <td>0.021789</td>\n",
       "      <td>0.008277</td>\n",
       "      <td>0.014121</td>\n",
       "      <td>0.005444</td>\n",
       "      <td>0.080082</td>\n",
       "    </tr>\n",
       "    <tr>\n",
       "      <th>15</th>\n",
       "      <td>0.009237</td>\n",
       "      <td>0.008693</td>\n",
       "      <td>0.048664</td>\n",
       "      <td>0.022507</td>\n",
       "      <td>0.032200</td>\n",
       "      <td>0.006574</td>\n",
       "      <td>0.008853</td>\n",
       "      <td>0.015674</td>\n",
       "      <td>0.008355</td>\n",
       "      <td>0.007193</td>\n",
       "      <td>0.023190</td>\n",
       "      <td>0.008147</td>\n",
       "      <td>0.005516</td>\n",
       "      <td>0.006720</td>\n",
       "      <td>0.006153</td>\n",
       "      <td>0.009553</td>\n",
       "      <td>0.025124</td>\n",
       "      <td>0.006005</td>\n",
       "      <td>0.013640</td>\n",
       "      <td>0.005482</td>\n",
       "    </tr>\n",
       "    <tr>\n",
       "      <th>16</th>\n",
       "      <td>0.016988</td>\n",
       "      <td>0.013187</td>\n",
       "      <td>0.007934</td>\n",
       "      <td>0.008224</td>\n",
       "      <td>0.011748</td>\n",
       "      <td>0.018396</td>\n",
       "      <td>0.017003</td>\n",
       "      <td>0.010571</td>\n",
       "      <td>0.015250</td>\n",
       "      <td>0.018495</td>\n",
       "      <td>0.007850</td>\n",
       "      <td>0.013058</td>\n",
       "      <td>0.025848</td>\n",
       "      <td>0.019892</td>\n",
       "      <td>0.018453</td>\n",
       "      <td>0.014522</td>\n",
       "      <td>0.007007</td>\n",
       "      <td>0.022695</td>\n",
       "      <td>0.011030</td>\n",
       "      <td>0.023719</td>\n",
       "    </tr>\n",
       "    <tr>\n",
       "      <th>17</th>\n",
       "      <td>0.014950</td>\n",
       "      <td>0.005844</td>\n",
       "      <td>0.036046</td>\n",
       "      <td>0.013950</td>\n",
       "      <td>0.028184</td>\n",
       "      <td>0.008770</td>\n",
       "      <td>0.010541</td>\n",
       "      <td>0.019466</td>\n",
       "      <td>0.010224</td>\n",
       "      <td>0.009334</td>\n",
       "      <td>0.012773</td>\n",
       "      <td>0.015268</td>\n",
       "      <td>0.017560</td>\n",
       "      <td>0.009442</td>\n",
       "      <td>0.006307</td>\n",
       "      <td>0.011898</td>\n",
       "      <td>0.036823</td>\n",
       "      <td>0.009878</td>\n",
       "      <td>0.029201</td>\n",
       "      <td>0.012812</td>\n",
       "    </tr>\n",
       "    <tr>\n",
       "      <th>18</th>\n",
       "      <td>0.028651</td>\n",
       "      <td>0.034068</td>\n",
       "      <td>0.012718</td>\n",
       "      <td>0.025238</td>\n",
       "      <td>0.006882</td>\n",
       "      <td>0.009374</td>\n",
       "      <td>0.036981</td>\n",
       "      <td>0.017973</td>\n",
       "      <td>0.062818</td>\n",
       "      <td>0.010161</td>\n",
       "      <td>0.011383</td>\n",
       "      <td>0.039080</td>\n",
       "      <td>0.010986</td>\n",
       "      <td>0.014971</td>\n",
       "      <td>0.050485</td>\n",
       "      <td>0.026034</td>\n",
       "      <td>0.005947</td>\n",
       "      <td>0.027579</td>\n",
       "      <td>0.011918</td>\n",
       "      <td>0.011097</td>\n",
       "    </tr>\n",
       "    <tr>\n",
       "      <th>19</th>\n",
       "      <td>0.019935</td>\n",
       "      <td>0.012953</td>\n",
       "      <td>0.010256</td>\n",
       "      <td>0.014602</td>\n",
       "      <td>0.023466</td>\n",
       "      <td>0.051769</td>\n",
       "      <td>0.019131</td>\n",
       "      <td>0.012940</td>\n",
       "      <td>0.028758</td>\n",
       "      <td>0.088732</td>\n",
       "      <td>0.014223</td>\n",
       "      <td>0.011968</td>\n",
       "      <td>0.038057</td>\n",
       "      <td>0.040356</td>\n",
       "      <td>0.040372</td>\n",
       "      <td>0.016586</td>\n",
       "      <td>0.014832</td>\n",
       "      <td>0.019732</td>\n",
       "      <td>0.005664</td>\n",
       "      <td>0.030759</td>\n",
       "    </tr>\n",
       "    <tr>\n",
       "      <th>20</th>\n",
       "      <td>0.003282</td>\n",
       "      <td>0.008983</td>\n",
       "      <td>0.007649</td>\n",
       "      <td>0.014021</td>\n",
       "      <td>0.012232</td>\n",
       "      <td>0.008151</td>\n",
       "      <td>0.008586</td>\n",
       "      <td>0.006084</td>\n",
       "      <td>0.004728</td>\n",
       "      <td>0.008207</td>\n",
       "      <td>0.010108</td>\n",
       "      <td>0.007782</td>\n",
       "      <td>0.007597</td>\n",
       "      <td>0.014083</td>\n",
       "      <td>0.004033</td>\n",
       "      <td>0.008386</td>\n",
       "      <td>0.013579</td>\n",
       "      <td>0.007672</td>\n",
       "      <td>0.007155</td>\n",
       "      <td>0.017545</td>\n",
       "    </tr>\n",
       "    <tr>\n",
       "      <th>21</th>\n",
       "      <td>0.013732</td>\n",
       "      <td>0.008684</td>\n",
       "      <td>0.010877</td>\n",
       "      <td>0.011622</td>\n",
       "      <td>0.008029</td>\n",
       "      <td>0.006458</td>\n",
       "      <td>0.014818</td>\n",
       "      <td>0.007728</td>\n",
       "      <td>0.008590</td>\n",
       "      <td>0.017904</td>\n",
       "      <td>0.007897</td>\n",
       "      <td>0.011404</td>\n",
       "      <td>0.009302</td>\n",
       "      <td>0.011033</td>\n",
       "      <td>0.017963</td>\n",
       "      <td>0.014741</td>\n",
       "      <td>0.010742</td>\n",
       "      <td>0.016500</td>\n",
       "      <td>0.014589</td>\n",
       "      <td>0.050116</td>\n",
       "    </tr>\n",
       "    <tr>\n",
       "      <th>22</th>\n",
       "      <td>0.011577</td>\n",
       "      <td>0.007771</td>\n",
       "      <td>0.005215</td>\n",
       "      <td>0.004281</td>\n",
       "      <td>0.004957</td>\n",
       "      <td>0.009276</td>\n",
       "      <td>0.016524</td>\n",
       "      <td>0.007233</td>\n",
       "      <td>0.012554</td>\n",
       "      <td>0.022628</td>\n",
       "      <td>0.030372</td>\n",
       "      <td>0.017269</td>\n",
       "      <td>0.014252</td>\n",
       "      <td>0.012319</td>\n",
       "      <td>0.018670</td>\n",
       "      <td>0.007817</td>\n",
       "      <td>0.010168</td>\n",
       "      <td>0.018323</td>\n",
       "      <td>0.006393</td>\n",
       "      <td>0.019950</td>\n",
       "    </tr>\n",
       "    <tr>\n",
       "      <th>23</th>\n",
       "      <td>0.107979</td>\n",
       "      <td>0.012987</td>\n",
       "      <td>0.010764</td>\n",
       "      <td>0.032429</td>\n",
       "      <td>0.013846</td>\n",
       "      <td>0.049258</td>\n",
       "      <td>0.023354</td>\n",
       "      <td>0.028869</td>\n",
       "      <td>0.044962</td>\n",
       "      <td>0.020799</td>\n",
       "      <td>0.014059</td>\n",
       "      <td>0.051017</td>\n",
       "      <td>0.048180</td>\n",
       "      <td>0.034722</td>\n",
       "      <td>0.069174</td>\n",
       "      <td>0.044113</td>\n",
       "      <td>0.009217</td>\n",
       "      <td>0.020307</td>\n",
       "      <td>0.016573</td>\n",
       "      <td>0.029927</td>\n",
       "    </tr>\n",
       "    <tr>\n",
       "      <th>24</th>\n",
       "      <td>0.008159</td>\n",
       "      <td>0.012954</td>\n",
       "      <td>0.007781</td>\n",
       "      <td>0.017547</td>\n",
       "      <td>0.014303</td>\n",
       "      <td>0.202775</td>\n",
       "      <td>0.017818</td>\n",
       "      <td>0.035843</td>\n",
       "      <td>0.017334</td>\n",
       "      <td>0.011699</td>\n",
       "      <td>0.320609</td>\n",
       "      <td>0.039654</td>\n",
       "      <td>0.013929</td>\n",
       "      <td>0.016238</td>\n",
       "      <td>0.015497</td>\n",
       "      <td>0.006279</td>\n",
       "      <td>0.029364</td>\n",
       "      <td>0.007072</td>\n",
       "      <td>0.004862</td>\n",
       "      <td>0.004899</td>\n",
       "    </tr>\n",
       "    <tr>\n",
       "      <th>25</th>\n",
       "      <td>0.009644</td>\n",
       "      <td>0.007885</td>\n",
       "      <td>0.007812</td>\n",
       "      <td>0.011018</td>\n",
       "      <td>0.010609</td>\n",
       "      <td>0.037121</td>\n",
       "      <td>0.011394</td>\n",
       "      <td>0.016865</td>\n",
       "      <td>0.011575</td>\n",
       "      <td>0.026622</td>\n",
       "      <td>0.012342</td>\n",
       "      <td>0.013688</td>\n",
       "      <td>0.052772</td>\n",
       "      <td>0.078368</td>\n",
       "      <td>0.028090</td>\n",
       "      <td>0.029549</td>\n",
       "      <td>0.009872</td>\n",
       "      <td>0.013530</td>\n",
       "      <td>0.005426</td>\n",
       "      <td>0.075130</td>\n",
       "    </tr>\n",
       "    <tr>\n",
       "      <th>26</th>\n",
       "      <td>0.017506</td>\n",
       "      <td>0.004015</td>\n",
       "      <td>0.006050</td>\n",
       "      <td>0.007573</td>\n",
       "      <td>0.005571</td>\n",
       "      <td>0.018821</td>\n",
       "      <td>0.008250</td>\n",
       "      <td>0.011186</td>\n",
       "      <td>0.012167</td>\n",
       "      <td>0.009263</td>\n",
       "      <td>0.023991</td>\n",
       "      <td>0.003362</td>\n",
       "      <td>0.014098</td>\n",
       "      <td>0.014086</td>\n",
       "      <td>0.007211</td>\n",
       "      <td>0.013690</td>\n",
       "      <td>0.005566</td>\n",
       "      <td>0.006776</td>\n",
       "      <td>0.005086</td>\n",
       "      <td>0.014791</td>\n",
       "    </tr>\n",
       "    <tr>\n",
       "      <th>27</th>\n",
       "      <td>0.009724</td>\n",
       "      <td>0.023025</td>\n",
       "      <td>0.029417</td>\n",
       "      <td>0.029225</td>\n",
       "      <td>0.018332</td>\n",
       "      <td>0.012059</td>\n",
       "      <td>0.036961</td>\n",
       "      <td>0.014410</td>\n",
       "      <td>0.008438</td>\n",
       "      <td>0.013880</td>\n",
       "      <td>0.009953</td>\n",
       "      <td>0.024777</td>\n",
       "      <td>0.008235</td>\n",
       "      <td>0.033140</td>\n",
       "      <td>0.009658</td>\n",
       "      <td>0.155603</td>\n",
       "      <td>0.028603</td>\n",
       "      <td>0.035275</td>\n",
       "      <td>0.010777</td>\n",
       "      <td>0.015215</td>\n",
       "    </tr>\n",
       "    <tr>\n",
       "      <th>28</th>\n",
       "      <td>0.004028</td>\n",
       "      <td>0.009244</td>\n",
       "      <td>0.037239</td>\n",
       "      <td>0.062287</td>\n",
       "      <td>0.215294</td>\n",
       "      <td>0.006418</td>\n",
       "      <td>0.040095</td>\n",
       "      <td>0.032219</td>\n",
       "      <td>0.008289</td>\n",
       "      <td>0.004418</td>\n",
       "      <td>0.016394</td>\n",
       "      <td>0.043685</td>\n",
       "      <td>0.009984</td>\n",
       "      <td>0.007860</td>\n",
       "      <td>0.006973</td>\n",
       "      <td>0.004753</td>\n",
       "      <td>0.224684</td>\n",
       "      <td>0.008508</td>\n",
       "      <td>0.050531</td>\n",
       "      <td>0.004580</td>\n",
       "    </tr>\n",
       "    <tr>\n",
       "      <th>29</th>\n",
       "      <td>0.045351</td>\n",
       "      <td>0.011115</td>\n",
       "      <td>0.005790</td>\n",
       "      <td>0.028091</td>\n",
       "      <td>0.013291</td>\n",
       "      <td>0.008932</td>\n",
       "      <td>0.073581</td>\n",
       "      <td>0.009496</td>\n",
       "      <td>0.045778</td>\n",
       "      <td>0.007705</td>\n",
       "      <td>0.010119</td>\n",
       "      <td>0.021917</td>\n",
       "      <td>0.041613</td>\n",
       "      <td>0.019452</td>\n",
       "      <td>0.024921</td>\n",
       "      <td>0.018349</td>\n",
       "      <td>0.010267</td>\n",
       "      <td>0.073630</td>\n",
       "      <td>0.005470</td>\n",
       "      <td>0.013893</td>\n",
       "    </tr>\n",
       "    <tr>\n",
       "      <th>30</th>\n",
       "      <td>0.013504</td>\n",
       "      <td>0.009518</td>\n",
       "      <td>0.083997</td>\n",
       "      <td>0.020821</td>\n",
       "      <td>0.058580</td>\n",
       "      <td>0.005419</td>\n",
       "      <td>0.051837</td>\n",
       "      <td>0.219554</td>\n",
       "      <td>0.007237</td>\n",
       "      <td>0.005627</td>\n",
       "      <td>0.006800</td>\n",
       "      <td>0.024515</td>\n",
       "      <td>0.009134</td>\n",
       "      <td>0.008996</td>\n",
       "      <td>0.013285</td>\n",
       "      <td>0.008456</td>\n",
       "      <td>0.031741</td>\n",
       "      <td>0.009934</td>\n",
       "      <td>0.134432</td>\n",
       "      <td>0.004755</td>\n",
       "    </tr>\n",
       "    <tr>\n",
       "      <th>31</th>\n",
       "      <td>0.005002</td>\n",
       "      <td>0.005837</td>\n",
       "      <td>0.013285</td>\n",
       "      <td>0.009288</td>\n",
       "      <td>0.021278</td>\n",
       "      <td>0.007499</td>\n",
       "      <td>0.007265</td>\n",
       "      <td>0.008066</td>\n",
       "      <td>0.004199</td>\n",
       "      <td>0.004311</td>\n",
       "      <td>0.005395</td>\n",
       "      <td>0.021918</td>\n",
       "      <td>0.003966</td>\n",
       "      <td>0.007299</td>\n",
       "      <td>0.008732</td>\n",
       "      <td>0.005246</td>\n",
       "      <td>0.027485</td>\n",
       "      <td>0.006118</td>\n",
       "      <td>0.015168</td>\n",
       "      <td>0.010663</td>\n",
       "    </tr>\n",
       "    <tr>\n",
       "      <th>32</th>\n",
       "      <td>0.009290</td>\n",
       "      <td>0.012534</td>\n",
       "      <td>0.014920</td>\n",
       "      <td>0.004237</td>\n",
       "      <td>0.019711</td>\n",
       "      <td>0.003959</td>\n",
       "      <td>0.003165</td>\n",
       "      <td>0.040100</td>\n",
       "      <td>0.005669</td>\n",
       "      <td>0.008997</td>\n",
       "      <td>0.005595</td>\n",
       "      <td>0.002973</td>\n",
       "      <td>0.008373</td>\n",
       "      <td>0.007891</td>\n",
       "      <td>0.004808</td>\n",
       "      <td>0.010656</td>\n",
       "      <td>0.013830</td>\n",
       "      <td>0.016477</td>\n",
       "      <td>0.019655</td>\n",
       "      <td>0.007747</td>\n",
       "    </tr>\n",
       "    <tr>\n",
       "      <th>33</th>\n",
       "      <td>0.011713</td>\n",
       "      <td>0.015411</td>\n",
       "      <td>0.010899</td>\n",
       "      <td>0.041583</td>\n",
       "      <td>0.019174</td>\n",
       "      <td>0.029969</td>\n",
       "      <td>0.011120</td>\n",
       "      <td>0.009574</td>\n",
       "      <td>0.010581</td>\n",
       "      <td>0.013551</td>\n",
       "      <td>0.044857</td>\n",
       "      <td>0.024931</td>\n",
       "      <td>0.015112</td>\n",
       "      <td>0.016201</td>\n",
       "      <td>0.014540</td>\n",
       "      <td>0.009986</td>\n",
       "      <td>0.013994</td>\n",
       "      <td>0.013130</td>\n",
       "      <td>0.009634</td>\n",
       "      <td>0.011071</td>\n",
       "    </tr>\n",
       "    <tr>\n",
       "      <th>34</th>\n",
       "      <td>0.011636</td>\n",
       "      <td>0.004083</td>\n",
       "      <td>0.006689</td>\n",
       "      <td>0.008937</td>\n",
       "      <td>0.004037</td>\n",
       "      <td>0.006441</td>\n",
       "      <td>0.004901</td>\n",
       "      <td>0.010031</td>\n",
       "      <td>0.014111</td>\n",
       "      <td>0.007594</td>\n",
       "      <td>0.017043</td>\n",
       "      <td>0.011099</td>\n",
       "      <td>0.019567</td>\n",
       "      <td>0.007054</td>\n",
       "      <td>0.013944</td>\n",
       "      <td>0.002859</td>\n",
       "      <td>0.003984</td>\n",
       "      <td>0.006834</td>\n",
       "      <td>0.005882</td>\n",
       "      <td>0.012909</td>\n",
       "    </tr>\n",
       "    <tr>\n",
       "      <th>35</th>\n",
       "      <td>0.018985</td>\n",
       "      <td>0.006841</td>\n",
       "      <td>0.007979</td>\n",
       "      <td>0.011526</td>\n",
       "      <td>0.011931</td>\n",
       "      <td>0.018313</td>\n",
       "      <td>0.013265</td>\n",
       "      <td>0.023838</td>\n",
       "      <td>0.018895</td>\n",
       "      <td>0.017610</td>\n",
       "      <td>0.009743</td>\n",
       "      <td>0.013477</td>\n",
       "      <td>0.042079</td>\n",
       "      <td>0.040861</td>\n",
       "      <td>0.019260</td>\n",
       "      <td>0.033405</td>\n",
       "      <td>0.012593</td>\n",
       "      <td>0.013081</td>\n",
       "      <td>0.010032</td>\n",
       "      <td>0.023434</td>\n",
       "    </tr>\n",
       "    <tr>\n",
       "      <th>36</th>\n",
       "      <td>0.015535</td>\n",
       "      <td>0.006652</td>\n",
       "      <td>0.003791</td>\n",
       "      <td>0.007101</td>\n",
       "      <td>0.006748</td>\n",
       "      <td>0.020567</td>\n",
       "      <td>0.008123</td>\n",
       "      <td>0.005872</td>\n",
       "      <td>0.009497</td>\n",
       "      <td>0.014241</td>\n",
       "      <td>0.004007</td>\n",
       "      <td>0.006158</td>\n",
       "      <td>0.027260</td>\n",
       "      <td>0.016106</td>\n",
       "      <td>0.013832</td>\n",
       "      <td>0.012290</td>\n",
       "      <td>0.003580</td>\n",
       "      <td>0.006172</td>\n",
       "      <td>0.023469</td>\n",
       "      <td>0.018107</td>\n",
       "    </tr>\n",
       "    <tr>\n",
       "      <th>37</th>\n",
       "      <td>0.010371</td>\n",
       "      <td>0.005301</td>\n",
       "      <td>0.255604</td>\n",
       "      <td>0.090630</td>\n",
       "      <td>0.067138</td>\n",
       "      <td>0.006611</td>\n",
       "      <td>0.013155</td>\n",
       "      <td>0.111234</td>\n",
       "      <td>0.020223</td>\n",
       "      <td>0.006016</td>\n",
       "      <td>0.011096</td>\n",
       "      <td>0.028611</td>\n",
       "      <td>0.009987</td>\n",
       "      <td>0.004030</td>\n",
       "      <td>0.011503</td>\n",
       "      <td>0.008971</td>\n",
       "      <td>0.089508</td>\n",
       "      <td>0.009399</td>\n",
       "      <td>0.306749</td>\n",
       "      <td>0.005873</td>\n",
       "    </tr>\n",
       "    <tr>\n",
       "      <th>38</th>\n",
       "      <td>0.023370</td>\n",
       "      <td>0.020228</td>\n",
       "      <td>0.020637</td>\n",
       "      <td>0.027547</td>\n",
       "      <td>0.024560</td>\n",
       "      <td>0.018727</td>\n",
       "      <td>0.024145</td>\n",
       "      <td>0.017227</td>\n",
       "      <td>0.014229</td>\n",
       "      <td>0.011908</td>\n",
       "      <td>0.018429</td>\n",
       "      <td>0.035081</td>\n",
       "      <td>0.014435</td>\n",
       "      <td>0.028788</td>\n",
       "      <td>0.014492</td>\n",
       "      <td>0.057133</td>\n",
       "      <td>0.029000</td>\n",
       "      <td>0.026667</td>\n",
       "      <td>0.016995</td>\n",
       "      <td>0.011876</td>\n",
       "    </tr>\n",
       "    <tr>\n",
       "      <th>39</th>\n",
       "      <td>0.008847</td>\n",
       "      <td>0.004419</td>\n",
       "      <td>0.008571</td>\n",
       "      <td>0.007468</td>\n",
       "      <td>0.017130</td>\n",
       "      <td>0.017891</td>\n",
       "      <td>0.004755</td>\n",
       "      <td>0.006574</td>\n",
       "      <td>0.013515</td>\n",
       "      <td>0.006115</td>\n",
       "      <td>0.012434</td>\n",
       "      <td>0.008121</td>\n",
       "      <td>0.014553</td>\n",
       "      <td>0.005124</td>\n",
       "      <td>0.013004</td>\n",
       "      <td>0.004984</td>\n",
       "      <td>0.021443</td>\n",
       "      <td>0.007494</td>\n",
       "      <td>0.008465</td>\n",
       "      <td>0.007425</td>\n",
       "    </tr>\n",
       "  </tbody>\n",
       "</table>\n",
       "</div>"
      ],
      "text/plain": [
       "       irish   mexican   chinese  filipino  vietnamese  moroccan  brazilian  \\\n",
       "0   0.025448  0.008334  0.008180  0.006170    0.006791  0.049832   0.018264   \n",
       "1   0.111878  0.017568  0.019534  0.019225    0.011790  0.018052   0.037629   \n",
       "2   0.006251  0.208524  0.009038  0.013848    0.042349  0.036899   0.084946   \n",
       "3   0.009648  0.024229  0.008802  0.015338    0.014330  0.021617   0.015020   \n",
       "4   0.010729  0.013911  0.006423  0.004578    0.005844  0.005571   0.005489   \n",
       "5   0.125122  0.019847  0.016851  0.068740    0.010088  0.025456   0.051926   \n",
       "6   0.016957  0.032105  0.010478  0.017728    0.008581  0.041518   0.022500   \n",
       "7   0.007073  0.007311  0.029846  0.024248    0.014892  0.004372   0.025630   \n",
       "8   0.010152  0.009962  0.066339  0.093774    0.036387  0.006530   0.026005   \n",
       "9   0.024391  0.007183  0.031187  0.033761    0.053149  0.009427   0.019303   \n",
       "10  0.035261  0.018484  0.006645  0.005153    0.007731  0.028176   0.013428   \n",
       "11  0.010702  0.006213  0.010654  0.008678    0.006233  0.012344   0.015473   \n",
       "12  0.011439  0.212137  0.003432  0.006835    0.003913  0.007575   0.021764   \n",
       "13  0.006530  0.014681  0.006537  0.011566    0.007671  0.005645   0.009533   \n",
       "14  0.011786  0.022303  0.005823  0.011758    0.007774  0.045794   0.015584   \n",
       "15  0.009237  0.008693  0.048664  0.022507    0.032200  0.006574   0.008853   \n",
       "16  0.016988  0.013187  0.007934  0.008224    0.011748  0.018396   0.017003   \n",
       "17  0.014950  0.005844  0.036046  0.013950    0.028184  0.008770   0.010541   \n",
       "18  0.028651  0.034068  0.012718  0.025238    0.006882  0.009374   0.036981   \n",
       "19  0.019935  0.012953  0.010256  0.014602    0.023466  0.051769   0.019131   \n",
       "20  0.003282  0.008983  0.007649  0.014021    0.012232  0.008151   0.008586   \n",
       "21  0.013732  0.008684  0.010877  0.011622    0.008029  0.006458   0.014818   \n",
       "22  0.011577  0.007771  0.005215  0.004281    0.004957  0.009276   0.016524   \n",
       "23  0.107979  0.012987  0.010764  0.032429    0.013846  0.049258   0.023354   \n",
       "24  0.008159  0.012954  0.007781  0.017547    0.014303  0.202775   0.017818   \n",
       "25  0.009644  0.007885  0.007812  0.011018    0.010609  0.037121   0.011394   \n",
       "26  0.017506  0.004015  0.006050  0.007573    0.005571  0.018821   0.008250   \n",
       "27  0.009724  0.023025  0.029417  0.029225    0.018332  0.012059   0.036961   \n",
       "28  0.004028  0.009244  0.037239  0.062287    0.215294  0.006418   0.040095   \n",
       "29  0.045351  0.011115  0.005790  0.028091    0.013291  0.008932   0.073581   \n",
       "30  0.013504  0.009518  0.083997  0.020821    0.058580  0.005419   0.051837   \n",
       "31  0.005002  0.005837  0.013285  0.009288    0.021278  0.007499   0.007265   \n",
       "32  0.009290  0.012534  0.014920  0.004237    0.019711  0.003959   0.003165   \n",
       "33  0.011713  0.015411  0.010899  0.041583    0.019174  0.029969   0.011120   \n",
       "34  0.011636  0.004083  0.006689  0.008937    0.004037  0.006441   0.004901   \n",
       "35  0.018985  0.006841  0.007979  0.011526    0.011931  0.018313   0.013265   \n",
       "36  0.015535  0.006652  0.003791  0.007101    0.006748  0.020567   0.008123   \n",
       "37  0.010371  0.005301  0.255604  0.090630    0.067138  0.006611   0.013155   \n",
       "38  0.023370  0.020228  0.020637  0.027547    0.024560  0.018727   0.024145   \n",
       "39  0.008847  0.004419  0.008571  0.007468    0.017130  0.017891   0.004755   \n",
       "\n",
       "    japanese   british     greek    indian  jamaican    french   spanish  \\\n",
       "0   0.006828  0.032601  0.016801  0.014063  0.061866  0.018376  0.011081   \n",
       "1   0.021579  0.129450  0.026640  0.022585  0.038591  0.114296  0.041551   \n",
       "2   0.010350  0.004487  0.010098  0.039604  0.047635  0.004532  0.034329   \n",
       "3   0.015853  0.012728  0.115305  0.015151  0.010058  0.018812  0.026813   \n",
       "4   0.002901  0.010802  0.029421  0.004930  0.009326  0.013900  0.014011   \n",
       "5   0.029466  0.151491  0.032662  0.021200  0.051310  0.061180  0.040128   \n",
       "6   0.007592  0.018295  0.043885  0.020753  0.055715  0.019820  0.038414   \n",
       "7   0.013561  0.016510  0.003795  0.002469  0.014648  0.011856  0.011022   \n",
       "8   0.023066  0.012439  0.004776  0.014769  0.034148  0.009337  0.010706   \n",
       "9   0.019249  0.013903  0.004789  0.009658  0.015599  0.009760  0.008024   \n",
       "10  0.005389  0.010882  0.039979  0.015880  0.012830  0.033765  0.045321   \n",
       "11  0.008830  0.018281  0.018878  0.017934  0.004057  0.015572  0.018787   \n",
       "12  0.002413  0.010823  0.014328  0.006677  0.008315  0.008754  0.009977   \n",
       "13  0.013481  0.006915  0.007961  0.030282  0.031597  0.005901  0.012323   \n",
       "14  0.005640  0.009515  0.144951  0.011222  0.006323  0.050350  0.089970   \n",
       "15  0.015674  0.008355  0.007193  0.023190  0.008147  0.005516  0.006720   \n",
       "16  0.010571  0.015250  0.018495  0.007850  0.013058  0.025848  0.019892   \n",
       "17  0.019466  0.010224  0.009334  0.012773  0.015268  0.017560  0.009442   \n",
       "18  0.017973  0.062818  0.010161  0.011383  0.039080  0.010986  0.014971   \n",
       "19  0.012940  0.028758  0.088732  0.014223  0.011968  0.038057  0.040356   \n",
       "20  0.006084  0.004728  0.008207  0.010108  0.007782  0.007597  0.014083   \n",
       "21  0.007728  0.008590  0.017904  0.007897  0.011404  0.009302  0.011033   \n",
       "22  0.007233  0.012554  0.022628  0.030372  0.017269  0.014252  0.012319   \n",
       "23  0.028869  0.044962  0.020799  0.014059  0.051017  0.048180  0.034722   \n",
       "24  0.035843  0.017334  0.011699  0.320609  0.039654  0.013929  0.016238   \n",
       "25  0.016865  0.011575  0.026622  0.012342  0.013688  0.052772  0.078368   \n",
       "26  0.011186  0.012167  0.009263  0.023991  0.003362  0.014098  0.014086   \n",
       "27  0.014410  0.008438  0.013880  0.009953  0.024777  0.008235  0.033140   \n",
       "28  0.032219  0.008289  0.004418  0.016394  0.043685  0.009984  0.007860   \n",
       "29  0.009496  0.045778  0.007705  0.010119  0.021917  0.041613  0.019452   \n",
       "30  0.219554  0.007237  0.005627  0.006800  0.024515  0.009134  0.008996   \n",
       "31  0.008066  0.004199  0.004311  0.005395  0.021918  0.003966  0.007299   \n",
       "32  0.040100  0.005669  0.008997  0.005595  0.002973  0.008373  0.007891   \n",
       "33  0.009574  0.010581  0.013551  0.044857  0.024931  0.015112  0.016201   \n",
       "34  0.010031  0.014111  0.007594  0.017043  0.011099  0.019567  0.007054   \n",
       "35  0.023838  0.018895  0.017610  0.009743  0.013477  0.042079  0.040861   \n",
       "36  0.005872  0.009497  0.014241  0.004007  0.006158  0.027260  0.016106   \n",
       "37  0.111234  0.020223  0.006016  0.011096  0.028611  0.009987  0.004030   \n",
       "38  0.017227  0.014229  0.011908  0.018429  0.035081  0.014435  0.028788   \n",
       "39  0.006574  0.013515  0.006115  0.012434  0.008121  0.014553  0.005124   \n",
       "\n",
       "     russian  cajun_creole      thai  southern_us    korean   italian  \n",
       "0   0.016964      0.010803  0.006369     0.032793  0.003122  0.009160  \n",
       "1   0.107501      0.037038  0.006985     0.139057  0.009753  0.049026  \n",
       "2   0.007760      0.011087  0.058176     0.013594  0.007609  0.005517  \n",
       "3   0.026873      0.016543  0.009145     0.009808  0.012522  0.018805  \n",
       "4   0.007882      0.016281  0.009939     0.013073  0.001995  0.035067  \n",
       "5   0.089590      0.026814  0.007496     0.092304  0.009270  0.032383  \n",
       "6   0.018677      0.101775  0.009546     0.034328  0.008022  0.050595  \n",
       "7   0.017565      0.008488  0.008065     0.013702  0.015687  0.007649  \n",
       "8   0.017101      0.010014  0.027820     0.014790  0.020482  0.005766  \n",
       "9   0.012395      0.009302  0.040457     0.014970  0.030717  0.007413  \n",
       "10  0.019423      0.058117  0.011941     0.031777  0.007528  0.037430  \n",
       "11  0.009332      0.008087  0.014024     0.008903  0.009546  0.083621  \n",
       "12  0.038901      0.010596  0.003982     0.015889  0.005430  0.010299  \n",
       "13  0.018045      0.027274  0.006288     0.018249  0.004256  0.007219  \n",
       "14  0.020405      0.021789  0.008277     0.014121  0.005444  0.080082  \n",
       "15  0.006153      0.009553  0.025124     0.006005  0.013640  0.005482  \n",
       "16  0.018453      0.014522  0.007007     0.022695  0.011030  0.023719  \n",
       "17  0.006307      0.011898  0.036823     0.009878  0.029201  0.012812  \n",
       "18  0.050485      0.026034  0.005947     0.027579  0.011918  0.011097  \n",
       "19  0.040372      0.016586  0.014832     0.019732  0.005664  0.030759  \n",
       "20  0.004033      0.008386  0.013579     0.007672  0.007155  0.017545  \n",
       "21  0.017963      0.014741  0.010742     0.016500  0.014589  0.050116  \n",
       "22  0.018670      0.007817  0.010168     0.018323  0.006393  0.019950  \n",
       "23  0.069174      0.044113  0.009217     0.020307  0.016573  0.029927  \n",
       "24  0.015497      0.006279  0.029364     0.007072  0.004862  0.004899  \n",
       "25  0.028090      0.029549  0.009872     0.013530  0.005426  0.075130  \n",
       "26  0.007211      0.013690  0.005566     0.006776  0.005086  0.014791  \n",
       "27  0.009658      0.155603  0.028603     0.035275  0.010777  0.015215  \n",
       "28  0.006973      0.004753  0.224684     0.008508  0.050531  0.004580  \n",
       "29  0.024921      0.018349  0.010267     0.073630  0.005470  0.013893  \n",
       "30  0.013285      0.008456  0.031741     0.009934  0.134432  0.004755  \n",
       "31  0.008732      0.005246  0.027485     0.006118  0.015168  0.010663  \n",
       "32  0.004808      0.010656  0.013830     0.016477  0.019655  0.007747  \n",
       "33  0.014540      0.009986  0.013994     0.013130  0.009634  0.011071  \n",
       "34  0.013944      0.002859  0.003984     0.006834  0.005882  0.012909  \n",
       "35  0.019260      0.033405  0.012593     0.013081  0.010032  0.023434  \n",
       "36  0.013832      0.012290  0.003580     0.006172  0.023469  0.018107  \n",
       "37  0.011503      0.008971  0.089508     0.009399  0.306749  0.005873  \n",
       "38  0.014492      0.057133  0.029000     0.026667  0.016995  0.011876  \n",
       "39  0.013004      0.004984  0.021443     0.007494  0.008465  0.007425  "
      ]
     },
     "execution_count": 117,
     "metadata": {},
     "output_type": "execute_result"
    }
   ],
   "source": [
    "# Визуализируйте матрицу\n",
    "compute_topic_cuisine_matrix(LDA_model_three, corpus2, recipes)"
   ]
  },
  {
   "cell_type": "code",
   "execution_count": 118,
   "metadata": {},
   "outputs": [
    {
     "data": {
      "image/png": "[encoded data removed]",
      "text/plain": [
       "<matplotlib.figure.Figure at 0x1a23dd3c10>"
      ]
     },
     "metadata": {},
     "output_type": "display_data"
    }
   ],
   "source": [
    "plot_matrix(compute_topic_cuisine_matrix(LDA_model_three, corpus2, recipes))"
   ]
  },
  {
   "cell_type": "markdown",
   "metadata": {},
   "source": [
    "Чем темнее квадрат в матрице, тем больше связь этой темы с данной кухней. Мы видим, что у нас есть темы, которые связаны с несколькими кухнями. Такие темы показывают набор ингредиентов, которые популярны в кухнях нескольких народов, то есть указывают на схожесть кухонь этих народов. Некоторые темы распределены по всем кухням равномерно, они показывают наборы продуктов, которые часто используются в кулинарии всех стран. "
   ]
  },
  {
   "cell_type": "markdown",
   "metadata": {},
   "source": [
    "Жаль, что в датасете нет названий рецептов, иначе темы было бы проще интерпретировать..."
   ]
  }
 ],
 "metadata": {
  "kernelspec": {
   "display_name": "Python 3",
   "language": "python",
   "name": "python3"
  },
  "language_info": {
   "codemirror_mode": {
    "name": "ipython",
    "version": 3
   },
   "file_extension": ".py",
   "mimetype": "text/x-python",
   "name": "python",
   "nbconvert_exporter": "python",
   "pygments_lexer": "ipython3",
   "version": "3.6.8"
  }
 },
 "nbformat": 4,
 "nbformat_minor": 1
}
