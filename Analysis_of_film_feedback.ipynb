{
 "cells": [
  {
   "cell_type": "markdown",
   "metadata": {},
   "source": [
    "# Анализ тональности киноотзывов"
   ]
  },
  {
   "cell_type": "markdown",
   "metadata": {},
   "source": [
    "Воспользуемся набором данных, который сидержит киноотзывы, оставленные на сайте IMDb (Internet Movie Database).  \n",
    "    \n",
    "Этот набор данных содержит тексты отзывов, а также метки, которые указывают тональность отзыва (\"положительный\" или \"отрицательный\"). Сайт IMDb имеет собственую систему оценки фильмов от 1 до 10. Чтобы упростить процесс моделирования, система оценки будет сведена к двум классам: отзывы с оценкой 6 и выше помечаются как \"положительные\", а остальные отзывы помечаются как \"отрицательные\"."
   ]
  },
  {
   "cell_type": "markdown",
   "metadata": {},
   "source": [
    "#### Распакуем данные:"
   ]
  },
  {
   "cell_type": "code",
   "execution_count": 1,
   "metadata": {
    "scrolled": false
   },
   "outputs": [
    {
     "name": "stdout",
     "output_type": "stream",
     "text": [
      "/Users/viktorkobets/Documents/aclImdb\r\n",
      "├── README\r\n",
      "├── imdb.vocab\r\n",
      "├── imdbEr.txt\r\n",
      "├── test\r\n",
      "│   ├── labeledBow.feat\r\n",
      "│   ├── neg\r\n",
      "│   ├── pos\r\n",
      "│   ├── urls_neg.txt\r\n",
      "│   └── urls_pos.txt\r\n",
      "└── train\r\n",
      "    ├── labeledBow.feat\r\n",
      "    ├── neg\r\n",
      "    ├── pos\r\n",
      "    ├── unsup\r\n",
      "    ├── unsupBow.feat\r\n",
      "    ├── urls_neg.txt\r\n",
      "    ├── urls_pos.txt\r\n",
      "    └── urls_unsup.txt\r\n",
      "\r\n",
      "7 directories, 11 files\r\n"
     ]
    }
   ],
   "source": [
    "!tree -L 2 /Users/viktorkobets/Documents/aclImdb"
   ]
  },
  {
   "cell_type": "markdown",
   "metadata": {},
   "source": [
    "Удалим лишние файлы:"
   ]
  },
  {
   "cell_type": "code",
   "execution_count": 2,
   "metadata": {},
   "outputs": [],
   "source": [
    "!rm -r /Users/viktorkobets/Documents/aclImdb/test/labeledBow.feat\n",
    "!rm -r /Users/viktorkobets/Documents/aclImdb/test/urls_neg.txt\n",
    "!rm -r /Users/viktorkobets/Documents/aclImdb/test/urls_pos.txt\n",
    "!rm -r /Users/viktorkobets/Documents/aclImdb/train/labeledBow.feat\n",
    "!rm -r /Users/viktorkobets/Documents/aclImdb/train/unsup\n",
    "!rm -r /Users/viktorkobets/Documents/aclImdb/train/unsupBow.feat\n",
    "!rm -r /Users/viktorkobets/Documents/aclImdb/train/urls_neg.txt\n",
    "!rm -r /Users/viktorkobets/Documents/aclImdb/train/urls_pos.txt\n",
    "!rm -r /Users/viktorkobets/Documents/aclImdb/train/urls_unsup.txt"
   ]
  },
  {
   "cell_type": "markdown",
   "metadata": {},
   "source": [
    "Проверим директорию:"
   ]
  },
  {
   "cell_type": "code",
   "execution_count": 3,
   "metadata": {},
   "outputs": [
    {
     "name": "stdout",
     "output_type": "stream",
     "text": [
      "/Users/viktorkobets/Documents/aclImdb\r\n",
      "├── README\r\n",
      "├── imdb.vocab\r\n",
      "├── imdbEr.txt\r\n",
      "├── test\r\n",
      "│   ├── neg\r\n",
      "│   └── pos\r\n",
      "└── train\r\n",
      "    ├── neg\r\n",
      "    └── pos\r\n",
      "\r\n",
      "6 directories, 3 files\r\n"
     ]
    }
   ],
   "source": [
    "!tree -L 2 /Users/viktorkobets/Documents/aclImdb"
   ]
  },
  {
   "cell_type": "markdown",
   "metadata": {},
   "source": [
    "После распаковки набор данных представляет собой две отдельные папки с текстовыми файлами, одна папка - для обучения, а вторая для - тестирования. Каждая папка в свою очередь содкржит две подпапки, одна называется pos, а другая neg.\n",
    "\n",
    "Папка pos содержит все положительные отзывы, каждый отзыв записан в виде отдельного текстового файла, папка neg содержит все отрицйательные отзывы и также каждый отзыв представлен в виде отдельного текстового файла."
   ]
  },
  {
   "cell_type": "code",
   "execution_count": 4,
   "metadata": {},
   "outputs": [],
   "source": [
    "from sklearn.datasets import load_files\n",
    "import numpy as np\n",
    "import pandas as pd\n",
    "import matplotlib.pyplot as plt"
   ]
  },
  {
   "cell_type": "code",
   "execution_count": 5,
   "metadata": {},
   "outputs": [],
   "source": [
    "reviews_train = load_files('/Users/viktorkobets/Documents/aclImdb/train/')\n",
    "texts_train, label_train = reviews_train.data, reviews_train.target"
   ]
  },
  {
   "cell_type": "markdown",
   "metadata": {},
   "source": [
    "#### Посмотрим на данные:"
   ]
  },
  {
   "cell_type": "markdown",
   "metadata": {},
   "source": [
    "Тип данных"
   ]
  },
  {
   "cell_type": "code",
   "execution_count": 6,
   "metadata": {},
   "outputs": [
    {
     "data": {
      "text/plain": [
       "list"
      ]
     },
     "execution_count": 6,
     "metadata": {},
     "output_type": "execute_result"
    }
   ],
   "source": [
    "type(texts_train)"
   ]
  },
  {
   "cell_type": "markdown",
   "metadata": {},
   "source": [
    "Размер данных"
   ]
  },
  {
   "cell_type": "code",
   "execution_count": 7,
   "metadata": {},
   "outputs": [
    {
     "data": {
      "text/plain": [
       "25000"
      ]
     },
     "execution_count": 7,
     "metadata": {},
     "output_type": "execute_result"
    }
   ],
   "source": [
    "len(texts_train)"
   ]
  },
  {
   "cell_type": "markdown",
   "metadata": {},
   "source": [
    "Данные"
   ]
  },
  {
   "cell_type": "code",
   "execution_count": 8,
   "metadata": {},
   "outputs": [
    {
     "data": {
      "text/plain": [
       "b\"Zero Day leads you to think, even re-think why two boys/young men would do what they did - commit mutual suicide via slaughtering their classmates. It captures what must be beyond a bizarre mode of being for two humans who have decided to withdraw from common civility in order to define their own/mutual world via coupled destruction.<br /><br />It is not a perfect movie but given what money/time the filmmaker and actors had - it is a remarkable product. In terms of explaining the motives and actions of the two young suicide/murderers it is better than 'Elephant' - in terms of being a film that gets under our 'rationalistic' skin it is a far, far better film than almost anything you are likely to see. <br /><br />Flawed but honest with a terrible honesty.\""
      ]
     },
     "execution_count": 8,
     "metadata": {},
     "output_type": "execute_result"
    }
   ],
   "source": [
    "texts_train[0]"
   ]
  },
  {
   "cell_type": "markdown",
   "metadata": {},
   "source": [
    "Можно увидеть, что подобный отзыв содержит теги разрыва строк HTML, лучше выполнить очистку данных и удалить все символы форматирования перед тем, как начать с ними работу:"
   ]
  },
  {
   "cell_type": "code",
   "execution_count": 9,
   "metadata": {},
   "outputs": [],
   "source": [
    "texts_train = list(map(lambda x: x.replace(b'<br />', b' '), texts_train))"
   ]
  },
  {
   "cell_type": "markdown",
   "metadata": {},
   "source": [
    "Проверим данные:"
   ]
  },
  {
   "cell_type": "code",
   "execution_count": 10,
   "metadata": {},
   "outputs": [
    {
     "data": {
      "text/plain": [
       "b\"Zero Day leads you to think, even re-think why two boys/young men would do what they did - commit mutual suicide via slaughtering their classmates. It captures what must be beyond a bizarre mode of being for two humans who have decided to withdraw from common civility in order to define their own/mutual world via coupled destruction.  It is not a perfect movie but given what money/time the filmmaker and actors had - it is a remarkable product. In terms of explaining the motives and actions of the two young suicide/murderers it is better than 'Elephant' - in terms of being a film that gets under our 'rationalistic' skin it is a far, far better film than almost anything you are likely to see.   Flawed but honest with a terrible honesty.\""
      ]
     },
     "execution_count": 10,
     "metadata": {},
     "output_type": "execute_result"
    }
   ],
   "source": [
    "texts_train[0]"
   ]
  },
  {
   "cell_type": "markdown",
   "metadata": {},
   "source": [
    "#### Посмотрим на метки присвоенные отзывам:"
   ]
  },
  {
   "cell_type": "markdown",
   "metadata": {},
   "source": [
    "Тип меток"
   ]
  },
  {
   "cell_type": "code",
   "execution_count": 11,
   "metadata": {},
   "outputs": [
    {
     "data": {
      "text/plain": [
       "numpy.ndarray"
      ]
     },
     "execution_count": 11,
     "metadata": {},
     "output_type": "execute_result"
    }
   ],
   "source": [
    "type(label_train)"
   ]
  },
  {
   "cell_type": "markdown",
   "metadata": {},
   "source": [
    "Размер массива меток"
   ]
  },
  {
   "cell_type": "code",
   "execution_count": 12,
   "metadata": {},
   "outputs": [
    {
     "data": {
      "text/plain": [
       "(25000,)"
      ]
     },
     "execution_count": 12,
     "metadata": {},
     "output_type": "execute_result"
    }
   ],
   "source": [
    "label_train.shape"
   ]
  },
  {
   "cell_type": "markdown",
   "metadata": {},
   "source": [
    "Метки"
   ]
  },
  {
   "cell_type": "code",
   "execution_count": 13,
   "metadata": {},
   "outputs": [
    {
     "data": {
      "text/plain": [
       "array([1, 0, 1, ..., 0, 0, 0])"
      ]
     },
     "execution_count": 13,
     "metadata": {},
     "output_type": "execute_result"
    }
   ],
   "source": [
    "label_train"
   ]
  },
  {
   "cell_type": "markdown",
   "metadata": {},
   "source": [
    "#### Посмотрм на сбалансированность выборки:"
   ]
  },
  {
   "cell_type": "code",
   "execution_count": 14,
   "metadata": {},
   "outputs": [
    {
     "data": {
      "text/plain": [
       "array([12500, 12500])"
      ]
     },
     "execution_count": 14,
     "metadata": {},
     "output_type": "execute_result"
    }
   ],
   "source": [
    "np.bincount(label_train)"
   ]
  },
  {
   "cell_type": "markdown",
   "metadata": {},
   "source": [
    "Видим, что число негативных и позитивных отзывов одинаковое, что говорит о верном балансе в выборке."
   ]
  },
  {
   "cell_type": "markdown",
   "metadata": {},
   "source": [
    "#### Аналогичным образом загружаем тестовые данные:"
   ]
  },
  {
   "cell_type": "code",
   "execution_count": 15,
   "metadata": {},
   "outputs": [],
   "source": [
    "reviews_test = load_files('/Users/viktorkobets/Documents/aclImdb/test/')\n",
    "texts_test, label_test = reviews_test.data, reviews_test.target\n",
    "texts_test = list(map(lambda x: x.replace(b'<br />', b' '), texts_test))"
   ]
  },
  {
   "cell_type": "markdown",
   "metadata": {},
   "source": [
    "## Постановка задачи"
   ]
  },
  {
   "cell_type": "markdown",
   "metadata": {},
   "source": [
    "Задачу можно сформулировать следующим образом: каждому отзыву нужно присвоить метку \"положительный\" или \"отрицательный\" на основе анализа его текста. Это стандартная задача бинарной классификации. Однако текстовые данные представлены в формате, который модель машинного обучения не умеет обрабатывать. Необходимо преобразовать строковое представление текста в числовое, к которому можно будет применить алгоритмы машинного обучения."
   ]
  },
  {
   "cell_type": "markdown",
   "metadata": {},
   "source": [
    "## Решение:"
   ]
  },
  {
   "cell_type": "markdown",
   "metadata": {},
   "source": [
    "Представим текстовые данные в виде \"мешка слов\"."
   ]
  },
  {
   "cell_type": "code",
   "execution_count": 16,
   "metadata": {},
   "outputs": [],
   "source": [
    "from sklearn.feature_extraction.text import CountVectorizer"
   ]
  },
  {
   "cell_type": "code",
   "execution_count": 17,
   "metadata": {},
   "outputs": [],
   "source": [
    "vect = CountVectorizer().fit(texts_train)"
   ]
  },
  {
   "cell_type": "code",
   "execution_count": 18,
   "metadata": {},
   "outputs": [],
   "source": [
    "X_train = vect.transform(texts_train)"
   ]
  },
  {
   "cell_type": "code",
   "execution_count": 19,
   "metadata": {},
   "outputs": [
    {
     "data": {
      "text/plain": [
       "<25000x74849 sparse matrix of type '<class 'numpy.int64'>'\n",
       "\twith 3431196 stored elements in Compressed Sparse Row format>"
      ]
     },
     "execution_count": 19,
     "metadata": {},
     "output_type": "execute_result"
    }
   ],
   "source": [
    "X_train"
   ]
  },
  {
   "cell_type": "markdown",
   "metadata": {},
   "source": [
    "Матрица X_train соответствует обучающим данным, представленным в виде \"мешка слов\". Число слов в словаре 74849.\n",
    "\n",
    "Получим доступ к словарю:"
   ]
  },
  {
   "cell_type": "code",
   "execution_count": 20,
   "metadata": {},
   "outputs": [],
   "source": [
    "feature_names = vect.get_feature_names()"
   ]
  },
  {
   "cell_type": "markdown",
   "metadata": {},
   "source": [
    "Число признаков:"
   ]
  },
  {
   "cell_type": "code",
   "execution_count": 21,
   "metadata": {},
   "outputs": [
    {
     "data": {
      "text/plain": [
       "74849"
      ]
     },
     "execution_count": 21,
     "metadata": {},
     "output_type": "execute_result"
    }
   ],
   "source": [
    "len(feature_names)"
   ]
  },
  {
   "cell_type": "markdown",
   "metadata": {},
   "source": [
    "Посмотрим на срезы признаков:"
   ]
  },
  {
   "cell_type": "code",
   "execution_count": 22,
   "metadata": {},
   "outputs": [
    {
     "name": "stdout",
     "output_type": "stream",
     "text": [
      "['00', '000', '0000000000001', '00001', '00015', '000s', '001', '003830', '006', '007', '0079', '0080', '0083', '0093638', '00am', '00pm', '00s', '01', '01pm', '02']\n"
     ]
    }
   ],
   "source": [
    "print(feature_names[:20])"
   ]
  },
  {
   "cell_type": "code",
   "execution_count": 23,
   "metadata": {},
   "outputs": [
    {
     "name": "stdout",
     "output_type": "stream",
     "text": [
      "['draper', 'draperies', 'drapery', 'drapes', 'draskovic', 'drastic', 'drastically', 'drat', 'dratch', 'dratic', 'dratted', 'draub', 'draught', 'draughts', 'draughtswoman', 'draw', 'drawback', 'drawbacks', 'drawer', 'drawers']\n"
     ]
    }
   ],
   "source": [
    "print(feature_names[20000:20020])"
   ]
  },
  {
   "cell_type": "code",
   "execution_count": 24,
   "metadata": {},
   "outputs": [
    {
     "name": "stdout",
     "output_type": "stream",
     "text": [
      "['00', 'aesir', 'aquarian', 'barking', 'blustering', 'bête', 'chicanery', 'condensing', 'cunning', 'detox', 'draper', 'enshrined', 'favorit', 'freezer', 'goldman', 'hasan', 'huitieme', 'intelligible', 'kantrowitz', 'lawful', 'maars', 'megalunged', 'mostey', 'norrland', 'padilla', 'pincher', 'promisingly', 'receptionist', 'rivals', 'schnaas', 'shunning', 'sparse', 'subset', 'temptations', 'treatises', 'unproven', 'walkman', 'xylophonist']\n"
     ]
    }
   ],
   "source": [
    "print(feature_names[::2000])"
   ]
  },
  {
   "cell_type": "markdown",
   "metadata": {},
   "source": [
    "Можно заметить, что единственное число слов \"draught\", \"drawback\" и \"drawer\" обрабатываются отдельно от их множественного числа. Данные термины очень тесно связаны между собой по смыслу, и обработка этих слов как разных, соответсветствующих различным признакам, не может быть оптимальным решением.\n",
    "\n",
    "Перед тем как улучшить выделение признаков, измерим качество модели, построив классификатор.\n",
    "\n",
    "применим к данным модель LogisticRegression с использованием кросс валидации:"
   ]
  },
  {
   "cell_type": "code",
   "execution_count": 25,
   "metadata": {},
   "outputs": [],
   "source": [
    "from sklearn.linear_model import LogisticRegression\n",
    "from sklearn.model_selection import cross_val_score"
   ]
  },
  {
   "cell_type": "code",
   "execution_count": 26,
   "metadata": {},
   "outputs": [],
   "source": [
    "model = LogisticRegression(solver='liblinear')\n",
    "accuracy = cross_val_score(model, X_train, label_train, cv=5)"
   ]
  },
  {
   "cell_type": "markdown",
   "metadata": {},
   "source": [
    "Средняя точность модели:"
   ]
  },
  {
   "cell_type": "code",
   "execution_count": 27,
   "metadata": {},
   "outputs": [
    {
     "data": {
      "text/plain": [
       "0.88"
      ]
     },
     "execution_count": 27,
     "metadata": {},
     "output_type": "execute_result"
    }
   ],
   "source": [
    "round(accuracy.mean(), 2)"
   ]
  },
  {
   "cell_type": "markdown",
   "metadata": {},
   "source": [
    "Логистическая регрессия имеет параметр регуляризации \"С\", который можно настроить с помощью решетчатого поиска:"
   ]
  },
  {
   "cell_type": "code",
   "execution_count": 28,
   "metadata": {},
   "outputs": [],
   "source": [
    "from sklearn.model_selection import GridSearchCV"
   ]
  },
  {
   "cell_type": "code",
   "execution_count": 29,
   "metadata": {},
   "outputs": [],
   "source": [
    "param_grid = {'C': [0.001, 0.01, 0.1, 1, 10]}\n",
    "grid = GridSearchCV(model, param_grid, cv=5)\n",
    "grid = grid.fit(X_train, label_train)"
   ]
  },
  {
   "cell_type": "markdown",
   "metadata": {},
   "source": [
    "Наилучшее значение точности модели при решетчатом поиске:"
   ]
  },
  {
   "cell_type": "code",
   "execution_count": 30,
   "metadata": {},
   "outputs": [
    {
     "data": {
      "text/plain": [
       "0.89"
      ]
     },
     "execution_count": 30,
     "metadata": {},
     "output_type": "execute_result"
    }
   ],
   "source": [
    "round(grid.best_score_, 2)"
   ]
  },
  {
   "cell_type": "markdown",
   "metadata": {},
   "source": [
    "Наилучшие параметры регуляризации:"
   ]
  },
  {
   "cell_type": "code",
   "execution_count": 31,
   "metadata": {},
   "outputs": [
    {
     "data": {
      "text/plain": [
       "{'C': 0.1}"
      ]
     },
     "execution_count": 31,
     "metadata": {},
     "output_type": "execute_result"
    }
   ],
   "source": [
    "grid.best_params_"
   ]
  },
  {
   "cell_type": "markdown",
   "metadata": {},
   "source": [
    "Теперь можно оценить на тестовом наборе обобщающую способность модели при использовании данного значения параметра ее настройки:"
   ]
  },
  {
   "cell_type": "code",
   "execution_count": 32,
   "metadata": {},
   "outputs": [],
   "source": [
    "X_test = vect.transform(texts_test)"
   ]
  },
  {
   "cell_type": "markdown",
   "metadata": {},
   "source": [
    "Точность на тестовом наборе:"
   ]
  },
  {
   "cell_type": "code",
   "execution_count": 33,
   "metadata": {},
   "outputs": [
    {
     "data": {
      "text/plain": [
       "0.88"
      ]
     },
     "execution_count": 33,
     "metadata": {},
     "output_type": "execute_result"
    }
   ],
   "source": [
    "round(grid.score(X_test, label_test), 2)"
   ]
  },
  {
   "cell_type": "markdown",
   "metadata": {},
   "source": [
    "Веса пирзнаков в регрессии:"
   ]
  },
  {
   "cell_type": "code",
   "execution_count": 48,
   "metadata": {},
   "outputs": [],
   "source": [
    "coef = grid.best_estimator_.coef_[0]"
   ]
  },
  {
   "cell_type": "code",
   "execution_count": 49,
   "metadata": {},
   "outputs": [],
   "source": [
    "df = pd.DataFrame()\n",
    "df['coef'] = coef\n",
    "df['feature'] = feature_names\n",
    "df = df.sort_values('coef')"
   ]
  },
  {
   "cell_type": "markdown",
   "metadata": {},
   "source": [
    "#### Визуализируем наибольшие и наименьшие значения коэффициентов логистической регрессии:"
   ]
  },
  {
   "cell_type": "code",
   "execution_count": 61,
   "metadata": {},
   "outputs": [
    {
     "data": {
      "text/html": [
       "<div>\n",
       "<style scoped>\n",
       "    .dataframe tbody tr th:only-of-type {\n",
       "        vertical-align: middle;\n",
       "    }\n",
       "\n",
       "    .dataframe tbody tr th {\n",
       "        vertical-align: top;\n",
       "    }\n",
       "\n",
       "    .dataframe thead th {\n",
       "        text-align: right;\n",
       "    }\n",
       "</style>\n",
       "<table border=\"1\" class=\"dataframe\">\n",
       "  <thead>\n",
       "    <tr style=\"text-align: right;\">\n",
       "      <th></th>\n",
       "      <th>coef</th>\n",
       "      <th>feature</th>\n",
       "    </tr>\n",
       "  </thead>\n",
       "  <tbody>\n",
       "    <tr>\n",
       "      <th>73700</th>\n",
       "      <td>-1.391361</td>\n",
       "      <td>worst</td>\n",
       "    </tr>\n",
       "    <tr>\n",
       "      <th>72229</th>\n",
       "      <td>-1.352437</td>\n",
       "      <td>waste</td>\n",
       "    </tr>\n",
       "    <tr>\n",
       "      <th>5266</th>\n",
       "      <td>-1.084358</td>\n",
       "      <td>awful</td>\n",
       "    </tr>\n",
       "    <tr>\n",
       "      <th>18642</th>\n",
       "      <td>-1.071771</td>\n",
       "      <td>disappointment</td>\n",
       "    </tr>\n",
       "    <tr>\n",
       "      <th>50821</th>\n",
       "      <td>-1.006899</td>\n",
       "      <td>poorly</td>\n",
       "    </tr>\n",
       "    <tr>\n",
       "      <th>8512</th>\n",
       "      <td>-0.950898</td>\n",
       "      <td>boring</td>\n",
       "    </tr>\n",
       "    <tr>\n",
       "      <th>37435</th>\n",
       "      <td>-0.881803</td>\n",
       "      <td>lacks</td>\n",
       "    </tr>\n",
       "    <tr>\n",
       "      <th>18640</th>\n",
       "      <td>-0.838238</td>\n",
       "      <td>disappointing</td>\n",
       "    </tr>\n",
       "    <tr>\n",
       "      <th>42368</th>\n",
       "      <td>-0.813457</td>\n",
       "      <td>mess</td>\n",
       "    </tr>\n",
       "    <tr>\n",
       "      <th>31669</th>\n",
       "      <td>-0.805268</td>\n",
       "      <td>horrible</td>\n",
       "    </tr>\n",
       "  </tbody>\n",
       "</table>\n",
       "</div>"
      ],
      "text/plain": [
       "           coef         feature\n",
       "73700 -1.391361           worst\n",
       "72229 -1.352437           waste\n",
       "5266  -1.084358           awful\n",
       "18642 -1.071771  disappointment\n",
       "50821 -1.006899          poorly\n",
       "8512  -0.950898          boring\n",
       "37435 -0.881803           lacks\n",
       "18640 -0.838238   disappointing\n",
       "42368 -0.813457            mess\n",
       "31669 -0.805268        horrible"
      ]
     },
     "execution_count": 61,
     "metadata": {},
     "output_type": "execute_result"
    }
   ],
   "source": [
    "df.head(10)"
   ]
  },
  {
   "cell_type": "code",
   "execution_count": 52,
   "metadata": {},
   "outputs": [
    {
     "data": {
      "text/plain": [
       "73700   -1.391361\n",
       "72229   -1.352437\n",
       "5266    -1.084358\n",
       "18642   -1.071771\n",
       "50821   -1.006899\n",
       "8512    -0.950898\n",
       "37435   -0.881803\n",
       "18640   -0.838238\n",
       "42368   -0.813457\n",
       "31669   -0.805268\n",
       "73683   -0.781209\n",
       "23564   -0.776191\n",
       "5208    -0.771344\n",
       "20381   -0.742505\n",
       "57668   -0.738391\n",
       "50818   -0.707109\n",
       "37919   -0.696046\n",
       "69622   -0.689771\n",
       "66150   -0.685526\n",
       "37580   -0.681463\n",
       "3513    -0.675088\n",
       "55773   -0.658280\n",
       "5535    -0.650672\n",
       "69645   -0.638691\n",
       "72366   -0.634654\n",
       "Name: coef, dtype: float64"
      ]
     },
     "execution_count": 52,
     "metadata": {},
     "output_type": "execute_result"
    }
   ],
   "source": [
    "bad_coef = df['coef'].iloc[:25]\n",
    "bad_coef"
   ]
  },
  {
   "cell_type": "code",
   "execution_count": 53,
   "metadata": {
    "scrolled": false
   },
   "outputs": [
    {
     "data": {
      "text/plain": [
       "17335    0.504882\n",
       "64641    0.510243\n",
       "28545    0.514642\n",
       "49228    0.520269\n",
       "54083    0.541556\n",
       "27073    0.547124\n",
       "9114     0.554013\n",
       "21926    0.574089\n",
       "64049    0.577976\n",
       "33223    0.601243\n",
       "30923    0.608785\n",
       "67153    0.618042\n",
       "39570    0.618397\n",
       "2953     0.626934\n",
       "21924    0.627443\n",
       "24001    0.630111\n",
       "53544    0.635229\n",
       "73496    0.640265\n",
       "64644    0.653922\n",
       "26380    0.695338\n",
       "73498    0.697059\n",
       "64397    0.712655\n",
       "54378    0.743292\n",
       "49221    0.796746\n",
       "22912    0.857219\n",
       "Name: coef, dtype: float64"
      ]
     },
     "execution_count": 53,
     "metadata": {},
     "output_type": "execute_result"
    }
   ],
   "source": [
    "best_coef = df['coef'].iloc[-25:]\n",
    "best_coef"
   ]
  },
  {
   "cell_type": "code",
   "execution_count": 60,
   "metadata": {
    "scrolled": false
   },
   "outputs": [
    {
     "data": {
      "image/png": "[encoded data removed]",
      "text/plain": [
       "<Figure size 1080x504 with 1 Axes>"
      ]
     },
     "metadata": {
      "needs_background": "light"
     },
     "output_type": "display_data"
    }
   ],
   "source": [
    "plt.figure(figsize=(15, 7))\n",
    "plt.bar(np.append(np.array(df['feature'].iloc[:25]), \n",
    "                  np.array(df['feature'].iloc[-25:])), \n",
    "        np.append(bad_coef, best_coef),\n",
    "       color=(['red']*25 + ['green']*25))\n",
    "plt.xticks(rotation=90)\n",
    "plt.title('Наибольшие и наименьшие значения коэффициетов логистической регрессии', \n",
    "          fontdict={'fontsize': 16})\n",
    "plt.xlabel('Признак', fontdict={'fontsize': 14})\n",
    "plt.ylabel('Величина коэффициента', fontdict={'fontsize': 14})\n",
    "plt.show()"
   ]
  },
  {
   "cell_type": "markdown",
   "metadata": {},
   "source": [
    "По визуализации видно, что модель имеет массу неинформативных признаков (например числа). Один из способов решить эту проблему - использовать только те токены, которые встречаются по крайней мере в двух документах. Токен, который встретился в одном тексте, вряд ли встретится в тестовом наборе и поэтому бесполезен.\n",
    "\n",
    "Зададим минимальное количество документов, в которых должен появиться токен, чтобы попасть в словарь:"
   ]
  },
  {
   "cell_type": "code",
   "execution_count": 62,
   "metadata": {},
   "outputs": [
    {
     "data": {
      "text/plain": [
       "<25000x27271 sparse matrix of type '<class 'numpy.int64'>'\n",
       "\twith 3354014 stored elements in Compressed Sparse Row format>"
      ]
     },
     "execution_count": 62,
     "metadata": {},
     "output_type": "execute_result"
    }
   ],
   "source": [
    "vect = CountVectorizer(min_df=5).fit(texts_train)\n",
    "X_train = vect.transform(texts_train)\n",
    "X_train"
   ]
  },
  {
   "cell_type": "markdown",
   "metadata": {},
   "source": [
    "Количество токенов уменьшили до 27271."
   ]
  },
  {
   "cell_type": "markdown",
   "metadata": {},
   "source": [
    "Получим доступ к признакам:"
   ]
  },
  {
   "cell_type": "code",
   "execution_count": 63,
   "metadata": {},
   "outputs": [],
   "source": [
    "feature_names = vect.get_feature_names()"
   ]
  },
  {
   "cell_type": "markdown",
   "metadata": {},
   "source": [
    "Посмотрим на срезы списков признаков:"
   ]
  },
  {
   "cell_type": "code",
   "execution_count": 64,
   "metadata": {},
   "outputs": [
    {
     "name": "stdout",
     "output_type": "stream",
     "text": [
      "['00', '000', '007', '00s', '01', '02', '03', '04', '05', '06', '07', '08', '09', '10', '100', '1000', '100th', '101', '102', '103', '104', '105', '107', '108', '10s', '10th', '11', '110', '112', '116', '117', '11th', '12', '120', '12th', '13', '135', '13th', '14', '140', '14th', '15', '150', '15th', '16', '160', '1600', '16mm', '16s', '16th']\n"
     ]
    }
   ],
   "source": [
    "print(feature_names[:50])"
   ]
  },
  {
   "cell_type": "code",
   "execution_count": 65,
   "metadata": {},
   "outputs": [
    {
     "name": "stdout",
     "output_type": "stream",
     "text": [
      "['repentance', 'repercussions', 'repertoire', 'repetition', 'repetitions', 'repetitious', 'repetitive', 'rephrase', 'replace', 'replaced', 'replacement', 'replaces', 'replacing', 'replay', 'replayable', 'replayed', 'replaying', 'replays', 'replete', 'replica']\n"
     ]
    }
   ],
   "source": [
    "print(feature_names[20010:20030])"
   ]
  },
  {
   "cell_type": "code",
   "execution_count": 66,
   "metadata": {},
   "outputs": [
    {
     "name": "stdout",
     "output_type": "stream",
     "text": [
      "['00', 'affections', 'appropriately', 'barbra', 'blurbs', 'butchered', 'cheese', 'commitment', 'courts', 'deconstructed', 'disgraceful', 'dvds', 'eschews', 'fell', 'freezer', 'goriest', 'hauser', 'hungary', 'insinuate', 'juggle', 'leering', 'maelstrom', 'messiah', 'music', 'occasional', 'parking', 'pleasantville', 'pronunciation', 'recipient', 'reviews', 'sas', 'shea', 'sneers', 'steiger', 'swastika', 'thrusting', 'tvs', 'vampyre', 'westerns']\n"
     ]
    }
   ],
   "source": [
    "print(feature_names[::700])"
   ]
  },
  {
   "cell_type": "markdown",
   "metadata": {},
   "source": [
    "Четко видно, что намного реже стали втречаться числа и, похоже, что исчезли некоторые странные или неправильно написанные слова.\n",
    "\n",
    "Вновь оценим качество модели решетчатым поиском:"
   ]
  },
  {
   "cell_type": "code",
   "execution_count": 67,
   "metadata": {},
   "outputs": [
    {
     "data": {
      "text/plain": [
       "GridSearchCV(cv=5, error_score='raise-deprecating',\n",
       "       estimator=LogisticRegression(C=1.0, class_weight=None, dual=False, fit_intercept=True,\n",
       "          intercept_scaling=1, max_iter=100, multi_class='warn',\n",
       "          n_jobs=None, penalty='l2', random_state=None, solver='liblinear',\n",
       "          tol=0.0001, verbose=0, warm_start=False),\n",
       "       fit_params=None, iid='warn', n_jobs=None,\n",
       "       param_grid={'C': [0.001, 0.01, 0.1, 1, 10]},\n",
       "       pre_dispatch='2*n_jobs', refit=True, return_train_score='warn',\n",
       "       scoring=None, verbose=0)"
      ]
     },
     "execution_count": 67,
     "metadata": {},
     "output_type": "execute_result"
    }
   ],
   "source": [
    "param_grid = {'C': [0.001, 0.01, 0.1, 1, 10]}\n",
    "grid = GridSearchCV(model, param_grid, cv=5)\n",
    "grid.fit(X_train, label_train)"
   ]
  },
  {
   "cell_type": "markdown",
   "metadata": {},
   "source": [
    "Наилучшее значение точности модели при решетчатом поиске:"
   ]
  },
  {
   "cell_type": "code",
   "execution_count": 68,
   "metadata": {},
   "outputs": [
    {
     "data": {
      "text/plain": [
       "0.89"
      ]
     },
     "execution_count": 68,
     "metadata": {},
     "output_type": "execute_result"
    }
   ],
   "source": [
    "round(grid.best_score_, 2)"
   ]
  },
  {
   "cell_type": "markdown",
   "metadata": {},
   "source": [
    "Наилучшие параметры регуляризации:"
   ]
  },
  {
   "cell_type": "code",
   "execution_count": 69,
   "metadata": {},
   "outputs": [
    {
     "data": {
      "text/plain": [
       "{'C': 0.1}"
      ]
     },
     "execution_count": 69,
     "metadata": {},
     "output_type": "execute_result"
    }
   ],
   "source": [
    "grid.best_params_"
   ]
  },
  {
   "cell_type": "markdown",
   "metadata": {},
   "source": [
    "Веса пирзнаков в регрессии:"
   ]
  },
  {
   "cell_type": "code",
   "execution_count": 70,
   "metadata": {},
   "outputs": [
    {
     "data": {
      "text/html": [
       "<div>\n",
       "<style scoped>\n",
       "    .dataframe tbody tr th:only-of-type {\n",
       "        vertical-align: middle;\n",
       "    }\n",
       "\n",
       "    .dataframe tbody tr th {\n",
       "        vertical-align: top;\n",
       "    }\n",
       "\n",
       "    .dataframe thead th {\n",
       "        text-align: right;\n",
       "    }\n",
       "</style>\n",
       "<table border=\"1\" class=\"dataframe\">\n",
       "  <thead>\n",
       "    <tr style=\"text-align: right;\">\n",
       "      <th></th>\n",
       "      <th>coef</th>\n",
       "      <th>feature</th>\n",
       "    </tr>\n",
       "  </thead>\n",
       "  <tbody>\n",
       "    <tr>\n",
       "      <th>26973</th>\n",
       "      <td>-1.391845</td>\n",
       "      <td>worst</td>\n",
       "    </tr>\n",
       "    <tr>\n",
       "      <th>26429</th>\n",
       "      <td>-1.365044</td>\n",
       "      <td>waste</td>\n",
       "    </tr>\n",
       "    <tr>\n",
       "      <th>6927</th>\n",
       "      <td>-1.091969</td>\n",
       "      <td>disappointment</td>\n",
       "    </tr>\n",
       "    <tr>\n",
       "      <th>1894</th>\n",
       "      <td>-1.087792</td>\n",
       "      <td>awful</td>\n",
       "    </tr>\n",
       "    <tr>\n",
       "      <th>18369</th>\n",
       "      <td>-1.033570</td>\n",
       "      <td>poorly</td>\n",
       "    </tr>\n",
       "    <tr>\n",
       "      <th>2966</th>\n",
       "      <td>-0.945927</td>\n",
       "      <td>boring</td>\n",
       "    </tr>\n",
       "    <tr>\n",
       "      <th>13745</th>\n",
       "      <td>-0.886826</td>\n",
       "      <td>lacks</td>\n",
       "    </tr>\n",
       "    <tr>\n",
       "      <th>6925</th>\n",
       "      <td>-0.827678</td>\n",
       "      <td>disappointing</td>\n",
       "    </tr>\n",
       "    <tr>\n",
       "      <th>15394</th>\n",
       "      <td>-0.819020</td>\n",
       "      <td>mess</td>\n",
       "    </tr>\n",
       "    <tr>\n",
       "      <th>11756</th>\n",
       "      <td>-0.809651</td>\n",
       "      <td>horrible</td>\n",
       "    </tr>\n",
       "  </tbody>\n",
       "</table>\n",
       "</div>"
      ],
      "text/plain": [
       "           coef         feature\n",
       "26973 -1.391845           worst\n",
       "26429 -1.365044           waste\n",
       "6927  -1.091969  disappointment\n",
       "1894  -1.087792           awful\n",
       "18369 -1.033570          poorly\n",
       "2966  -0.945927          boring\n",
       "13745 -0.886826           lacks\n",
       "6925  -0.827678   disappointing\n",
       "15394 -0.819020            mess\n",
       "11756 -0.809651        horrible"
      ]
     },
     "execution_count": 70,
     "metadata": {},
     "output_type": "execute_result"
    }
   ],
   "source": [
    "coef = grid.best_estimator_.coef_[0]\n",
    "df = pd.DataFrame()\n",
    "df['coef'] = coef\n",
    "df['feature'] = feature_names\n",
    "df = df.sort_values('coef')\n",
    "df.head(10)"
   ]
  },
  {
   "cell_type": "markdown",
   "metadata": {},
   "source": [
    "#### Визуализируем наибольшие и наименьшие значения коэффициентов логистической регрессии:"
   ]
  },
  {
   "cell_type": "code",
   "execution_count": 71,
   "metadata": {},
   "outputs": [
    {
     "data": {
      "text/plain": [
       "26973   -1.391845\n",
       "26429   -1.365044\n",
       "6927    -1.091969\n",
       "1894    -1.087792\n",
       "18369   -1.033570\n",
       "2966    -0.945927\n",
       "13745   -0.886826\n",
       "6925    -0.827678\n",
       "15394   -0.819020\n",
       "11756   -0.809651\n",
       "26965   -0.786757\n",
       "8876    -0.774696\n",
       "1862    -0.771251\n",
       "21050   -0.739037\n",
       "7622    -0.732401\n",
       "13888   -0.713181\n",
       "18366   -0.706726\n",
       "25530   -0.693541\n",
       "24278   -0.682858\n",
       "13779   -0.680115\n",
       "1236    -0.668640\n",
       "20413   -0.659930\n",
       "1977    -0.655176\n",
       "25536   -0.644265\n",
       "18286   -0.633948\n",
       "Name: coef, dtype: float64"
      ]
     },
     "execution_count": 71,
     "metadata": {},
     "output_type": "execute_result"
    }
   ],
   "source": [
    "bad_coef = df['coef'].iloc[:25]\n",
    "bad_coef"
   ]
  },
  {
   "cell_type": "code",
   "execution_count": 72,
   "metadata": {},
   "outputs": [
    {
     "data": {
      "text/plain": [
       "10643    0.510434\n",
       "23721    0.520690\n",
       "6415     0.525456\n",
       "17796    0.534284\n",
       "19635    0.549956\n",
       "3218     0.550655\n",
       "10143    0.555641\n",
       "8205     0.572409\n",
       "23506    0.588187\n",
       "12339    0.604779\n",
       "11493    0.611252\n",
       "14491    0.613555\n",
       "24644    0.620185\n",
       "1032     0.627917\n",
       "9035     0.628893\n",
       "8203     0.630090\n",
       "26906    0.638716\n",
       "19441    0.652785\n",
       "23724    0.670233\n",
       "26907    0.695492\n",
       "9939     0.704649\n",
       "23638    0.706516\n",
       "19758    0.765520\n",
       "17792    0.789033\n",
       "8577     0.856581\n",
       "Name: coef, dtype: float64"
      ]
     },
     "execution_count": 72,
     "metadata": {},
     "output_type": "execute_result"
    }
   ],
   "source": [
    "best_coef = df['coef'].iloc[-25:]\n",
    "best_coef"
   ]
  },
  {
   "cell_type": "code",
   "execution_count": 73,
   "metadata": {},
   "outputs": [
    {
     "data": {
      "image/png": "[encoded data removed]",
      "text/plain": [
       "<Figure size 1080x504 with 1 Axes>"
      ]
     },
     "metadata": {
      "needs_background": "light"
     },
     "output_type": "display_data"
    }
   ],
   "source": [
    "plt.figure(figsize=(15, 7))\n",
    "plt.bar(np.append(np.array(df['feature'].iloc[:25]), \n",
    "                  np.array(df['feature'].iloc[-25:])), \n",
    "        np.append(bad_coef, best_coef),\n",
    "       color=(['red']*25 + ['green']*25))\n",
    "plt.xticks(rotation=90)\n",
    "plt.title('Наибольшие и наименьшие значения коэффициетов логистической регрессии', \n",
    "          fontdict={'fontsize': 16})\n",
    "plt.xlabel('Признак', fontdict={'fontsize': 14})\n",
    "plt.ylabel('Величина коэффициента', fontdict={'fontsize': 14})\n",
    "plt.show()"
   ]
  },
  {
   "cell_type": "markdown",
   "metadata": {},
   "source": [
    "По визуализации видно, что модель все еще имеет массу неинформативных признаков. Таким образом мы не смогли улучшить качество модели, исключение бесполезных признаков улучшит только интерпретабельность модели."
   ]
  },
  {
   "cell_type": "markdown",
   "metadata": {},
   "source": [
    "#### Стоп-слова"
   ]
  },
  {
   "cell_type": "markdown",
   "metadata": {},
   "source": [
    "Еще один способ, с помощью котрого можно избавится от неинформативных стов, - это исключение слов, которые встречаются слишком часто, чтобы быть информативными.\n",
    "\n",
    "Библиотека sklearn предлагает встроенный список английских стоп-слов:"
   ]
  },
  {
   "cell_type": "code",
   "execution_count": 74,
   "metadata": {},
   "outputs": [],
   "source": [
    "from sklearn.feature_extraction.text import ENGLISH_STOP_WORDS"
   ]
  },
  {
   "cell_type": "markdown",
   "metadata": {},
   "source": [
    "Количество стоп-слов:"
   ]
  },
  {
   "cell_type": "code",
   "execution_count": 75,
   "metadata": {},
   "outputs": [
    {
     "data": {
      "text/plain": [
       "318"
      ]
     },
     "execution_count": 75,
     "metadata": {},
     "output_type": "execute_result"
    }
   ],
   "source": [
    "len(ENGLISH_STOP_WORDS)"
   ]
  },
  {
   "cell_type": "markdown",
   "metadata": {},
   "source": [
    "Список стоп слов:"
   ]
  },
  {
   "cell_type": "code",
   "execution_count": 76,
   "metadata": {},
   "outputs": [
    {
     "name": "stdout",
     "output_type": "stream",
     "text": [
      "['either', 'system', 'themselves', 'cannot', 'therein', 'hundred', 'becoming', 'by', 'down', 'also', 'get', 'me', 'meanwhile', 'thru', 'found', 'myself', 'do', 'done', 'forty', 'ie', 'what', 'show', 'they', 'among', 'her', 'give', 'seems', 'their', 'has', 'whether', 'six', 'not', 'mostly', 'whereby', 'everywhere', 'became', 'off', 'part', 'often', 'twelve', 'the', 'behind', 'anywhere', 'him', 'within', 'formerly', 'been', 'former', 'mill', 'somehow', 'it', 'namely', 'as', 'neither', 'enough', 'in', 'ten', 'over', 'then', 'who', 'co', 'already', 'noone', 'for', 'he', 'every', 'too', 'until', 'thence', 'etc', 'toward', 'when', 'before', 'hereupon', 'so', 'during', 'hence', 'ever', 'though', 'whereafter', 'around', 'himself', 'throughout', 'once', 'with', 'anyhow', 'bill', 'had', 'serious', 'empty', 'eight', 'never', 'from', 'am', 'same', 'back', 'via', 'about', 'a', 'indeed', 'less', 'those', 'beyond', 'three', 'sometimes', 'fifteen', 'ltd', 'she', 'something', 'why', 'cry', 'whereas', 'de', 'becomes', 'hasnt', 'anything', 'others', 'sincere', 'herself', 'more', 'therefore', 'us', 'amongst', 'many', 'could', 'most', 'sixty', 'eg', 'along', 'nine', 'twenty', 'five', 'few', 'if', 'some', 'yours', 'both', 'cant', 'through', 'amount', 'against', 'first', 'however', 'hers', 'but', 'anyway', 'below', 'moreover', 'seeming', 'detail', 'alone', 'none', 'one', 'might', 'sometime', 'bottom', 'call', 'last', 'yet', 'since', 'his', 'latter', 'was', 'here', 'besides', 'should', 'thus', 'an', 'is', 'still', 'become', 'elsewhere', 'whom', 'please', 'because', 'perhaps', 'un', 'nothing', 'there', 'ourselves', 'amoungst', 'hereafter', 'move', 'someone', 'now', 'wherever', 'whose', 'its', 'between', 'except', 'be', 'see', 'again', 'were', 'side', 'other', 'couldnt', 'yourself', 'several', 'thick', 'under', 'everything', 'con', 'hereby', 'further', 'yourselves', 'next', 'always', 'thin', 'our', 'are', 'my', 'without', 'full', 'interest', 'into', 'together', 'while', 'each', 'take', 'i', 'may', 'onto', 'least', 'two', 'to', 'herein', 'whoever', 'almost', 'and', 'such', 'whither', 'inc', 'which', 'describe', 'front', 'up', 'another', 'made', 'must', 're', 'towards', 'any', 'your', 'whereupon', 'that', 'much', 'top', 'after', 'even', 'whole', 'can', 'seem', 'of', 'out', 'find', 'how', 'on', 'them', 'seemed', 'we', 'across', 'eleven', 'third', 'have', 'name', 'or', 'nowhere', 'beforehand', 'thereby', 'no', 'nobody', 'four', 'would', 'due', 'go', 'well', 'whenever', 'somewhere', 'wherein', 'own', 'anyone', 'these', 'will', 'thereupon', 'afterwards', 'above', 'nor', 'thereafter', 'than', 'whence', 'else', 'all', 'nevertheless', 'fill', 'itself', 'latterly', 'this', 'otherwise', 'only', 'whatever', 'put', 'you', 'mine', 'although', 'everyone', 'fifty', 'ours', 'rather', 'per', 'fire', 'beside', 'very', 'where', 'being', 'upon', 'keep', 'at']\n"
     ]
    }
   ],
   "source": [
    "print(list(ENGLISH_STOP_WORDS))"
   ]
  },
  {
   "cell_type": "markdown",
   "metadata": {},
   "source": [
    "Используем стоп слова в модели:"
   ]
  },
  {
   "cell_type": "code",
   "execution_count": 77,
   "metadata": {},
   "outputs": [],
   "source": [
    "vect = CountVectorizer(min_df=5, stop_words='english').fit(texts_train)"
   ]
  },
  {
   "cell_type": "code",
   "execution_count": 78,
   "metadata": {},
   "outputs": [
    {
     "data": {
      "text/plain": [
       "<25000x26966 sparse matrix of type '<class 'numpy.int64'>'\n",
       "\twith 2149958 stored elements in Compressed Sparse Row format>"
      ]
     },
     "execution_count": 78,
     "metadata": {},
     "output_type": "execute_result"
    }
   ],
   "source": [
    "X_train = vect.transform(texts_train)\n",
    "X_train"
   ]
  },
  {
   "cell_type": "code",
   "execution_count": 79,
   "metadata": {},
   "outputs": [
    {
     "data": {
      "text/plain": [
       "GridSearchCV(cv=5, error_score='raise-deprecating',\n",
       "       estimator=LogisticRegression(C=1.0, class_weight=None, dual=False, fit_intercept=True,\n",
       "          intercept_scaling=1, max_iter=100, multi_class='warn',\n",
       "          n_jobs=None, penalty='l2', random_state=None, solver='liblinear',\n",
       "          tol=0.0001, verbose=0, warm_start=False),\n",
       "       fit_params=None, iid='warn', n_jobs=None,\n",
       "       param_grid={'C': [0.001, 0.01, 0.1, 1, 10]},\n",
       "       pre_dispatch='2*n_jobs', refit=True, return_train_score='warn',\n",
       "       scoring=None, verbose=0)"
      ]
     },
     "execution_count": 79,
     "metadata": {},
     "output_type": "execute_result"
    }
   ],
   "source": [
    "param_grid = {'C': [0.001, 0.01, 0.1, 1, 10]}\n",
    "grid = GridSearchCV(model, param_grid, cv=5)\n",
    "grid.fit(X_train, label_train)"
   ]
  },
  {
   "cell_type": "markdown",
   "metadata": {},
   "source": [
    "Наилучшее значение точности модели при решетчатом поиске:"
   ]
  },
  {
   "cell_type": "code",
   "execution_count": 80,
   "metadata": {},
   "outputs": [
    {
     "data": {
      "text/plain": [
       "0.88"
      ]
     },
     "execution_count": 80,
     "metadata": {},
     "output_type": "execute_result"
    }
   ],
   "source": [
    "round(grid.best_score_, 2)"
   ]
  },
  {
   "cell_type": "markdown",
   "metadata": {},
   "source": [
    "Наилучшие параметры регуляризации:"
   ]
  },
  {
   "cell_type": "code",
   "execution_count": 81,
   "metadata": {},
   "outputs": [
    {
     "data": {
      "text/plain": [
       "{'C': 0.1}"
      ]
     },
     "execution_count": 81,
     "metadata": {},
     "output_type": "execute_result"
    }
   ],
   "source": [
    "grid.best_params_"
   ]
  },
  {
   "cell_type": "markdown",
   "metadata": {},
   "source": [
    "Веса пирзнаков в регрессии:"
   ]
  },
  {
   "cell_type": "code",
   "execution_count": 84,
   "metadata": {},
   "outputs": [
    {
     "data": {
      "text/html": [
       "<div>\n",
       "<style scoped>\n",
       "    .dataframe tbody tr th:only-of-type {\n",
       "        vertical-align: middle;\n",
       "    }\n",
       "\n",
       "    .dataframe tbody tr th {\n",
       "        vertical-align: top;\n",
       "    }\n",
       "\n",
       "    .dataframe thead th {\n",
       "        text-align: right;\n",
       "    }\n",
       "</style>\n",
       "<table border=\"1\" class=\"dataframe\">\n",
       "  <thead>\n",
       "    <tr style=\"text-align: right;\">\n",
       "      <th></th>\n",
       "      <th>coef</th>\n",
       "      <th>feature</th>\n",
       "    </tr>\n",
       "  </thead>\n",
       "  <tbody>\n",
       "    <tr>\n",
       "      <th>26157</th>\n",
       "      <td>-1.450288</td>\n",
       "      <td>waste</td>\n",
       "    </tr>\n",
       "    <tr>\n",
       "      <th>26675</th>\n",
       "      <td>-1.382222</td>\n",
       "      <td>worst</td>\n",
       "    </tr>\n",
       "    <tr>\n",
       "      <th>6861</th>\n",
       "      <td>-1.174434</td>\n",
       "      <td>disappointment</td>\n",
       "    </tr>\n",
       "    <tr>\n",
       "      <th>1862</th>\n",
       "      <td>-1.095869</td>\n",
       "      <td>awful</td>\n",
       "    </tr>\n",
       "    <tr>\n",
       "      <th>18172</th>\n",
       "      <td>-1.045804</td>\n",
       "      <td>poorly</td>\n",
       "    </tr>\n",
       "    <tr>\n",
       "      <th>2916</th>\n",
       "      <td>-0.914056</td>\n",
       "      <td>boring</td>\n",
       "    </tr>\n",
       "    <tr>\n",
       "      <th>6859</th>\n",
       "      <td>-0.867937</td>\n",
       "      <td>disappointing</td>\n",
       "    </tr>\n",
       "    <tr>\n",
       "      <th>8788</th>\n",
       "      <td>-0.848113</td>\n",
       "      <td>fails</td>\n",
       "    </tr>\n",
       "    <tr>\n",
       "      <th>26667</th>\n",
       "      <td>-0.845314</td>\n",
       "      <td>worse</td>\n",
       "    </tr>\n",
       "    <tr>\n",
       "      <th>13607</th>\n",
       "      <td>-0.844338</td>\n",
       "      <td>lacks</td>\n",
       "    </tr>\n",
       "  </tbody>\n",
       "</table>\n",
       "</div>"
      ],
      "text/plain": [
       "           coef         feature\n",
       "26157 -1.450288           waste\n",
       "26675 -1.382222           worst\n",
       "6861  -1.174434  disappointment\n",
       "1862  -1.095869           awful\n",
       "18172 -1.045804          poorly\n",
       "2916  -0.914056          boring\n",
       "6859  -0.867937   disappointing\n",
       "8788  -0.848113           fails\n",
       "26667 -0.845314           worse\n",
       "13607 -0.844338           lacks"
      ]
     },
     "execution_count": 84,
     "metadata": {},
     "output_type": "execute_result"
    }
   ],
   "source": [
    "feature_names = vect.get_feature_names()\n",
    "coef = grid.best_estimator_.coef_[0]\n",
    "df = pd.DataFrame()\n",
    "df['coef'] = coef\n",
    "df['feature'] = feature_names\n",
    "df = df.sort_values('coef')\n",
    "df.head(10)"
   ]
  },
  {
   "cell_type": "markdown",
   "metadata": {},
   "source": [
    "#### Визуализируем наибольшие и наименьшие значения коэффициентов логистической регрессии:"
   ]
  },
  {
   "cell_type": "code",
   "execution_count": 85,
   "metadata": {},
   "outputs": [
    {
     "data": {
      "text/plain": [
       "26157   -1.450288\n",
       "26675   -1.382222\n",
       "6861    -1.174434\n",
       "1862    -1.095869\n",
       "18172   -1.045804\n",
       "2916    -0.914056\n",
       "6859    -0.867937\n",
       "8788    -0.848113\n",
       "26667   -0.845314\n",
       "13607   -0.844338\n",
       "1830    -0.841894\n",
       "15247   -0.792698\n",
       "11633   -0.792291\n",
       "18089   -0.769794\n",
       "7552    -0.753239\n",
       "20849   -0.749740\n",
       "18169   -0.722957\n",
       "1944    -0.718140\n",
       "1215    -0.702535\n",
       "25265   -0.691381\n",
       "13748   -0.690499\n",
       "24049   -0.672734\n",
       "15111   -0.670975\n",
       "20213   -0.650707\n",
       "15858   -0.649228\n",
       "Name: coef, dtype: float64"
      ]
     },
     "execution_count": 85,
     "metadata": {},
     "output_type": "execute_result"
    }
   ],
   "source": [
    "bad_coef = df['coef'].iloc[:25]\n",
    "bad_coef"
   ]
  },
  {
   "cell_type": "code",
   "execution_count": 86,
   "metadata": {},
   "outputs": [
    {
     "data": {
      "text/plain": [
       "6351     0.530856\n",
       "10534    0.531582\n",
       "24522    0.561145\n",
       "10037    0.568602\n",
       "8858     0.581042\n",
       "3166     0.581855\n",
       "8126     0.589574\n",
       "24389    0.602490\n",
       "23281    0.623104\n",
       "11373    0.623864\n",
       "8124     0.637690\n",
       "12209    0.638302\n",
       "14349    0.651570\n",
       "17601    0.675735\n",
       "23498    0.685200\n",
       "19243    0.699326\n",
       "1016     0.700451\n",
       "26608    0.701558\n",
       "23412    0.704385\n",
       "26609    0.717986\n",
       "8947     0.728881\n",
       "9834     0.752622\n",
       "17597    0.780852\n",
       "19558    0.801375\n",
       "8490     0.860257\n",
       "Name: coef, dtype: float64"
      ]
     },
     "execution_count": 86,
     "metadata": {},
     "output_type": "execute_result"
    }
   ],
   "source": [
    "best_coef = df['coef'].iloc[-25:]\n",
    "best_coef"
   ]
  },
  {
   "cell_type": "code",
   "execution_count": 87,
   "metadata": {},
   "outputs": [
    {
     "data": {
      "image/png": "[encoded data removed]",
      "text/plain": [
       "<Figure size 1080x504 with 1 Axes>"
      ]
     },
     "metadata": {
      "needs_background": "light"
     },
     "output_type": "display_data"
    }
   ],
   "source": [
    "plt.figure(figsize=(15, 7))\n",
    "plt.bar(np.append(np.array(df['feature'].iloc[:25]), \n",
    "                  np.array(df['feature'].iloc[-25:])), \n",
    "        np.append(bad_coef, best_coef),\n",
    "       color=(['red']*25 + ['green']*25))\n",
    "plt.xticks(rotation=90)\n",
    "plt.title('Наибольшие и наименьшие значения коэффициетов логистической регрессии', \n",
    "          fontdict={'fontsize': 16})\n",
    "plt.xlabel('Признак', fontdict={'fontsize': 14})\n",
    "plt.ylabel('Величина коэффициента', fontdict={'fontsize': 14})\n",
    "plt.show()"
   ]
  },
  {
   "cell_type": "markdown",
   "metadata": {},
   "source": [
    "Видно, что использование стоп слов никак не повлияло на работу модели."
   ]
  },
  {
   "cell_type": "markdown",
   "metadata": {},
   "source": [
    "#### Масштабирование данных с помощью метода tf-idf"
   ]
  },
  {
   "cell_type": "markdown",
   "metadata": {},
   "source": [
    "Идея этого метода в том, чтобы присвоить большой вес термину, который часто встречается в конкретном документе, но при этом редко встречается в остальных документах корпуса. Если слово часто появляется в конкретном документе, но при этом редко встречается в остальных документах, оно, вероятно, будет описывать содержимое документа лучше."
   ]
  },
  {
   "cell_type": "code",
   "execution_count": 88,
   "metadata": {},
   "outputs": [],
   "source": [
    "from sklearn.feature_extraction.text import TfidfVectorizer"
   ]
  },
  {
   "cell_type": "code",
   "execution_count": 89,
   "metadata": {},
   "outputs": [],
   "source": [
    "from sklearn.pipeline import make_pipeline"
   ]
  },
  {
   "cell_type": "code",
   "execution_count": 90,
   "metadata": {},
   "outputs": [],
   "source": [
    "pipe = make_pipeline(TfidfVectorizer(min_df=5, norm=None), model)"
   ]
  },
  {
   "cell_type": "code",
   "execution_count": 93,
   "metadata": {},
   "outputs": [],
   "source": [
    "param_grid = {'logisticregression__C': [0.001, 0.01, 0.1, 1, 10]}"
   ]
  },
  {
   "cell_type": "code",
   "execution_count": 94,
   "metadata": {},
   "outputs": [
    {
     "data": {
      "text/plain": [
       "GridSearchCV(cv=5, error_score='raise-deprecating',\n",
       "       estimator=Pipeline(memory=None,\n",
       "     steps=[('tfidfvectorizer', TfidfVectorizer(analyzer='word', binary=False, decode_error='strict',\n",
       "        dtype=<class 'numpy.float64'>, encoding='utf-8', input='content',\n",
       "        lowercase=True, max_df=1.0, max_features=None, min_df=5,\n",
       "        ngram_range=(1, 1), norm=None, preprocessor=None, smooth...ty='l2', random_state=None, solver='liblinear',\n",
       "          tol=0.0001, verbose=0, warm_start=False))]),\n",
       "       fit_params=None, iid='warn', n_jobs=None,\n",
       "       param_grid={'logisticregression__C': [0.001, 0.01, 0.1, 1, 10]},\n",
       "       pre_dispatch='2*n_jobs', refit=True, return_train_score='warn',\n",
       "       scoring=None, verbose=0)"
      ]
     },
     "execution_count": 94,
     "metadata": {},
     "output_type": "execute_result"
    }
   ],
   "source": [
    "grid = GridSearchCV(pipe, param_grid, cv=5)\n",
    "grid.fit(texts_train, label_train)"
   ]
  },
  {
   "cell_type": "markdown",
   "metadata": {},
   "source": [
    "Наилучшее значение точности модели при решетчатом поиске:"
   ]
  },
  {
   "cell_type": "code",
   "execution_count": 95,
   "metadata": {},
   "outputs": [
    {
     "data": {
      "text/plain": [
       "0.89"
      ]
     },
     "execution_count": 95,
     "metadata": {},
     "output_type": "execute_result"
    }
   ],
   "source": [
    "round(grid.best_score_, 2)"
   ]
  },
  {
   "cell_type": "markdown",
   "metadata": {},
   "source": [
    "Наилучшие параметры регуляризации:"
   ]
  },
  {
   "cell_type": "code",
   "execution_count": 96,
   "metadata": {},
   "outputs": [
    {
     "data": {
      "text/plain": [
       "{'logisticregression__C': 0.001}"
      ]
     },
     "execution_count": 96,
     "metadata": {},
     "output_type": "execute_result"
    }
   ],
   "source": [
    "grid.best_params_"
   ]
  },
  {
   "cell_type": "markdown",
   "metadata": {},
   "source": [
    "Веса пирзнаков в регрессии:"
   ]
  },
  {
   "cell_type": "code",
   "execution_count": 97,
   "metadata": {},
   "outputs": [],
   "source": [
    "vectorizer = grid.best_estimator_.named_steps['tfidfvectorizer']\n",
    "X_train = vectorizer.transform(texts_train)"
   ]
  },
  {
   "cell_type": "code",
   "execution_count": 98,
   "metadata": {},
   "outputs": [],
   "source": [
    "max_value = X_train.max(axis=0).toarray().ravel()\n",
    "sorted_by_tfidf = max_value.argsort()"
   ]
  },
  {
   "cell_type": "markdown",
   "metadata": {},
   "source": [
    "Наименее значащие признаки:"
   ]
  },
  {
   "cell_type": "code",
   "execution_count": 99,
   "metadata": {},
   "outputs": [
    {
     "data": {
      "text/plain": [
       "array(['dictates', 'berdalh', 'clanging', 'chopped', 'competing',\n",
       "       'deaths', 'bardem', '_________', 'dainton', 'forces', 'bequeathed',\n",
       "       'builders', 'experts', 'adoptees', 'bochner', 'attendent',\n",
       "       'beretta', 'domination', 'biographies', 'christan', 'assery',\n",
       "       'exemplified', 'atoms', 'bohumil', 'copious'], dtype='<U66')"
      ]
     },
     "execution_count": 99,
     "metadata": {},
     "output_type": "execute_result"
    }
   ],
   "source": [
    "vect = CountVectorizer().fit(texts_train)\n",
    "feature_names = vect.get_feature_names()\n",
    "feature_names = np.array(feature_names)\n",
    "feature_names[sorted_by_tfidf[:25]]"
   ]
  },
  {
   "cell_type": "markdown",
   "metadata": {},
   "source": [
    "Наиболее значащие признаки:"
   ]
  },
  {
   "cell_type": "code",
   "execution_count": 100,
   "metadata": {},
   "outputs": [
    {
     "data": {
      "text/plain": [
       "array(['alluding', 'depletion', 'belching', 'communicative', 'earhole',\n",
       "       'bacio', 'chariot', 'benella', 'casino', 'byrnes', 'faun',\n",
       "       'convertible', 'fraudulently', 'cocktails', 'aggravated',\n",
       "       'bijomaru', 'fetisov', 'fretwell', 'analysing', 'freuchen',\n",
       "       'comedienne', 'gerda', 'durango', 'filmstrip', 'finalé'],\n",
       "      dtype='<U66')"
      ]
     },
     "execution_count": 100,
     "metadata": {},
     "output_type": "execute_result"
    }
   ],
   "source": [
    "feature_names[sorted_by_tfidf[-25:]]"
   ]
  },
  {
   "cell_type": "markdown",
   "metadata": {},
   "source": [
    "Слова, которые встречаются часто и имеют низкое значение:"
   ]
  },
  {
   "cell_type": "code",
   "execution_count": 101,
   "metadata": {},
   "outputs": [
    {
     "data": {
      "text/plain": [
       "array(['fetisov', 'aaww', 'debiliate', 'findlay', 'fidenco',\n",
       "       'clothesline', 'club', 'chrecter', 'fetishism', 'annna',\n",
       "       'bulkhead', 'garnished', 'furry', 'acme', 'decimates', 'cunda',\n",
       "       'dastagir', 'cbgbomfug', 'deciphering', 'agreeable', 'broken',\n",
       "       'accompaniment', 'geno', '850', 'adage', 'aaawwwwnnn', 'anointing',\n",
       "       'eschatological', 'bustelo', 'conkers', 'gambits', 'fibres',\n",
       "       'fi9lm', 'chih', 'changeover', 'defensa', 'collen', '1961s',\n",
       "       'cede', 'dedication', 'cavalryman', 'galaxina', 'established',\n",
       "       'canteen', 'antiquated', 'ct', 'galigula', 'filmmmakers', 'foyt',\n",
       "       'frencified', 'borel', 'deck', 'daring', 'gaydar', 'cutie',\n",
       "       'elman', 'dominators', 'export', 'gallant', 'gaiday', 'caspar',\n",
       "       'covington', 'fetching', 'cur', 'feuding', 'calls', 'gainful',\n",
       "       'defects', 'ailed', 'bibbity', 'cuffs', 'biked', 'cetniks', '99',\n",
       "       'cletus', 'browbeats', 'cookbook', 'ched', 'careered', 'ahn',\n",
       "       'gangstas', 'descend', 'copperfield', 'fym', 'baffled',\n",
       "       'förflutet', 'advisedly', '498', 'abs', 'fireballs', 'fewest',\n",
       "       'feux', 'enaction', 'fusion', 'fictionalizations', '21849907',\n",
       "       'cundieff', 'eloquence', 'clubs', 'chan', 'arcs', 'corral',\n",
       "       'diaries', 'airliner', 'danaza', 'fluidly', 'alastair',\n",
       "       'conservator', 'architecture', 'boricua', 'committees', 'galindo',\n",
       "       'defoe', 'belyt', 'debilitating', 'alberto', 'congrats',\n",
       "       'bromidic', 'bien', 'bogayevicz', 'contentious', 'experiencing',\n",
       "       'ch', 'egging', 'genre', 'canfield', 'fiascos', 'galleon',\n",
       "       'enfants', 'esteem', 'faerie', 'figtings', 'corey', 'freaky',\n",
       "       'adventuring', 'eikenberry', 'gameshow', 'futility', 'eightiesly',\n",
       "       'fields', 'fictionalised', 'davi', 'domenic', 'generators',\n",
       "       'bierce', '227', 'abominable', 'aimee', 'fiend', 'benzocaine'],\n",
       "      dtype='<U66')"
      ]
     },
     "execution_count": 101,
     "metadata": {},
     "output_type": "execute_result"
    }
   ],
   "source": [
    "sorted_by_idf = np.argsort(vectorizer.idf_)\n",
    "feature_names[sorted_by_idf[:150]]"
   ]
  },
  {
   "cell_type": "markdown",
   "metadata": {},
   "source": [
    "Как и следовало ожидать, слова с низким значением метрики - стоп-слова. Интесрено, что в соответсвии с метрикой tf-idf слово 'good' было отнесено к нерелевантным, хотя можно было ожидать, что оно будут иметь важное значение."
   ]
  },
  {
   "cell_type": "markdown",
   "metadata": {},
   "source": [
    "Коэффициенты модели:"
   ]
  },
  {
   "cell_type": "code",
   "execution_count": 107,
   "metadata": {},
   "outputs": [],
   "source": [
    "coef = grid.best_estimator_.named_steps['logisticregression'].coef_[0]\n",
    "coef.sort()"
   ]
  },
  {
   "cell_type": "markdown",
   "metadata": {},
   "source": [
    "#### Визуализируем наибольшие и наименьшие значения коэффициентов логистической регрессии:"
   ]
  },
  {
   "cell_type": "code",
   "execution_count": 108,
   "metadata": {},
   "outputs": [
    {
     "data": {
      "text/plain": [
       "array([-0.24114946, -0.18922762, -0.16882385, -0.16762892, -0.15383238,\n",
       "       -0.12846837, -0.12076303, -0.12065734, -0.11784554, -0.11670615,\n",
       "       -0.11564851, -0.10563196, -0.10310113, -0.10259937, -0.09954057,\n",
       "       -0.09906539, -0.09890039, -0.09699585, -0.09553974, -0.09532019,\n",
       "       -0.09529821, -0.09502003, -0.09368496, -0.09170486, -0.08625897])"
      ]
     },
     "execution_count": 108,
     "metadata": {},
     "output_type": "execute_result"
    }
   ],
   "source": [
    "bad_coef = coef[:25]\n",
    "bad_coef"
   ]
  },
  {
   "cell_type": "code",
   "execution_count": 109,
   "metadata": {},
   "outputs": [
    {
     "data": {
      "text/plain": [
       "array([0.07305831, 0.07402613, 0.07443917, 0.07468361, 0.07597944,\n",
       "       0.07697095, 0.07705166, 0.07745668, 0.07789068, 0.07974711,\n",
       "       0.08196403, 0.08226128, 0.0893194 , 0.09130576, 0.09207461,\n",
       "       0.09370695, 0.09383512, 0.09949129, 0.10052063, 0.10236701,\n",
       "       0.11059845, 0.11524024, 0.12010003, 0.1540786 , 0.16240071])"
      ]
     },
     "execution_count": 109,
     "metadata": {},
     "output_type": "execute_result"
    }
   ],
   "source": [
    "best_coef = coef[-25:]\n",
    "best_coef"
   ]
  },
  {
   "cell_type": "code",
   "execution_count": 110,
   "metadata": {},
   "outputs": [
    {
     "data": {
      "image/png": "[encoded data removed]",
      "text/plain": [
       "<Figure size 1080x504 with 1 Axes>"
      ]
     },
     "metadata": {
      "needs_background": "light"
     },
     "output_type": "display_data"
    }
   ],
   "source": [
    "plt.figure(figsize=(15, 7))\n",
    "plt.bar(list(feature_names[sorted_by_tfidf[:25]])+list(feature_names[sorted_by_tfidf[-25:]]), \n",
    "        np.append(bad_coef, best_coef),\n",
    "       color=(['red']*25 + ['green']*25))\n",
    "plt.xticks(rotation=90)\n",
    "plt.title('Наибольшие и наименьшие значения коэффициетов логистической регрессии', \n",
    "          fontdict={'fontsize': 16})\n",
    "plt.xlabel('Признак', fontdict={'fontsize': 14})\n",
    "plt.ylabel('Величина коэффициента', fontdict={'fontsize': 14})\n",
    "plt.show()"
   ]
  }
 ],
 "metadata": {
  "kernelspec": {
   "display_name": "Python 3",
   "language": "python",
   "name": "python3"
  },
  "language_info": {
   "codemirror_mode": {
    "name": "ipython",
    "version": 3
   },
   "file_extension": ".py",
   "mimetype": "text/x-python",
   "name": "python",
   "nbconvert_exporter": "python",
   "pygments_lexer": "ipython3",
   "version": "3.6.8"
  }
 },
 "nbformat": 4,
 "nbformat_minor": 2
}
